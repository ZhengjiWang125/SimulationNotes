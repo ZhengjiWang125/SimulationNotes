{
 "cells": [
  {
   "cell_type": "code",
   "execution_count": 1,
   "id": "4ad1c467",
   "metadata": {},
   "outputs": [],
   "source": [
    "import numpy as np\n",
    "import matplotlib.pyplot as plt\n",
    "from scipy.stats import expon,gamma\n",
    "from scipy.special import gamma as gfunc #because otherwise there would be name conflict"
   ]
  },
  {
   "cell_type": "code",
   "execution_count": 6,
   "id": "6de3a635",
   "metadata": {},
   "outputs": [
    {
     "data": {
      "text/plain": [
       "0.2706705664732254"
      ]
     },
     "execution_count": 6,
     "metadata": {},
     "output_type": "execute_result"
    }
   ],
   "source": [
    "x = 1\n",
    "lmbda = 2\n",
    "expon.pdf(x, scale = 1/lmbda) #scipy use mean, if we want exp(2), we will have to use"
   ]
  },
  {
   "cell_type": "code",
   "execution_count": 7,
   "id": "5807c066",
   "metadata": {},
   "outputs": [
    {
     "data": {
      "text/plain": [
       "0.6321205588285577"
      ]
     },
     "execution_count": 7,
     "metadata": {},
     "output_type": "execute_result"
    }
   ],
   "source": [
    "expon.cdf(x)"
   ]
  },
  {
   "cell_type": "code",
   "execution_count": 8,
   "id": "1745259e",
   "metadata": {},
   "outputs": [
    {
     "data": {
      "text/plain": [
       "0.6817887007810235"
      ]
     },
     "execution_count": 8,
     "metadata": {},
     "output_type": "execute_result"
    }
   ],
   "source": [
    "#likewise\n",
    "alpha = 1.7\n",
    "gamma.cdf(x,alpha,scale = 1/lmbda)"
   ]
  },
  {
   "cell_type": "code",
   "execution_count": 12,
   "id": "6c80cbd7",
   "metadata": {},
   "outputs": [
    {
     "data": {
      "text/plain": [
       "array([[1.2466985 , 1.77395507, 1.19956058],\n",
       "       [0.62743567, 0.1714134 , 0.75620932],\n",
       "       [0.59125962, 1.67661209, 0.05111641],\n",
       "       ...,\n",
       "       [0.96229882, 1.00409798, 0.01559653],\n",
       "       [0.42047176, 1.29209725, 1.7817941 ],\n",
       "       [0.28670977, 0.46046004, 0.27468373]])"
      ]
     },
     "execution_count": 12,
     "metadata": {},
     "output_type": "execute_result"
    }
   ],
   "source": [
    "gamma.rvs(alpha,scale = 1/lmbda,size = (1000,3))"
   ]
  },
  {
   "cell_type": "code",
   "execution_count": 16,
   "id": "1caab371",
   "metadata": {},
   "outputs": [],
   "source": [
    "X = gamma.rvs(alpha,size = 1000)"
   ]
  },
  {
   "cell_type": "code",
   "execution_count": 17,
   "id": "c1813fb3",
   "metadata": {},
   "outputs": [
    {
     "data": {
      "text/plain": [
       "array([ 1.80631368,  2.03236782,  1.43837454,  1.98551039,  2.18740246,\n",
       "        1.56341109,  0.05166073,  0.3535983 ,  3.82427257,  3.40790151,\n",
       "        4.52075625,  2.43224071,  0.9828826 ,  2.65764049,  0.26203278,\n",
       "        2.76614719,  1.18663931,  0.38814699,  0.20658732,  1.89092635,\n",
       "        2.91532097,  1.55151852,  2.64954221,  2.34690097,  1.5088244 ,\n",
       "        1.61432465,  1.93755789,  0.55845681,  1.88197531,  3.74387717,\n",
       "        1.05773682,  1.35936897,  0.63814268,  0.88271139,  0.67826259,\n",
       "        2.47908097,  0.60384931,  2.06089563,  0.18770814,  3.7643037 ,\n",
       "        0.40885687,  1.14624047,  2.09231125,  0.49437326,  2.17208247,\n",
       "        1.89765537,  3.91969252,  0.66884837,  0.21671322,  1.34329086,\n",
       "        3.84366844,  1.49792358,  0.95742569,  0.68078616,  3.12553568,\n",
       "        3.19010939,  2.96898372,  1.13894699,  0.3717344 ,  1.19002148,\n",
       "        2.28193466,  1.08476258,  2.20669317,  2.981917  ,  2.52372464,\n",
       "        0.18270702,  2.70775107,  2.21272094,  1.43230232,  3.91669472,\n",
       "        0.7155878 ,  0.55631509,  2.05310546,  0.64808875,  3.29903613,\n",
       "        1.37027888,  0.68991893,  0.1782167 ,  0.67941786,  0.93758884,\n",
       "        1.10082387,  1.26297398,  2.35064535,  2.9452693 ,  1.76958335,\n",
       "        0.47937581,  0.71995075,  2.20619185,  0.65736603,  1.20872143,\n",
       "        0.33398478,  0.56077252,  1.30320861,  0.45012069,  2.99067516,\n",
       "        1.21903257,  2.66092629,  2.51481371,  2.45103672,  2.10120892,\n",
       "        0.80059194,  1.7571873 ,  3.30813146,  0.31499009,  1.59053704,\n",
       "        1.18982209,  0.98078385,  2.41487933,  0.23283402,  1.21193911,\n",
       "        5.08795622,  1.98470868,  1.47822083,  1.26414495,  0.58657389,\n",
       "        3.24180097,  3.07853743,  4.04203734,  1.7446689 ,  2.50648338,\n",
       "        1.16941939,  3.72811506,  0.72270951,  1.83733814,  1.02232636,\n",
       "        0.22316077,  4.64362624,  0.66932197,  2.56137721,  0.36422516,\n",
       "        3.1246572 ,  3.79135226,  0.6125123 ,  2.51743139,  1.29200232,\n",
       "        3.30677282,  0.20826302,  1.80591116,  0.71663521,  1.19941838,\n",
       "        1.61282931,  0.40665069,  2.56880647,  0.12474445,  3.24344852,\n",
       "        2.56350151,  2.5495657 ,  3.83602886,  2.57861736,  1.97536869,\n",
       "        1.91688843,  2.6587092 ,  0.43144669,  1.65777102,  0.9377682 ,\n",
       "        1.29011833,  2.83254877,  0.68950217,  1.69797222,  0.43312155,\n",
       "        3.72773882,  1.9724114 ,  0.1571405 ,  1.11475553,  0.28406163,\n",
       "        0.93056654,  0.22097577,  2.27111447,  2.52451705,  3.11261506,\n",
       "        1.0471055 ,  0.04803549,  0.46548293,  0.79091917,  1.03149306,\n",
       "        7.42040412,  1.7773033 ,  2.02789923,  0.30949394,  0.46533514,\n",
       "        0.39158126,  2.98180999,  0.2286235 ,  0.04538799,  1.43478419,\n",
       "        1.00889122,  1.83263588,  0.22473447,  1.42016864,  1.47184683,\n",
       "        2.27922618,  0.58712127,  0.51816892,  2.80703277,  2.34693062,\n",
       "        1.21682348,  0.499725  ,  1.92104918,  3.5703841 ,  1.99673296,\n",
       "        0.33998168,  2.00978956,  1.57425653,  4.53976728,  2.7481642 ,\n",
       "        1.76517499,  5.31680621,  2.46757708,  1.53520296,  0.74849677,\n",
       "        0.59865395,  2.24555044,  3.91601901,  2.67734382,  1.16697461,\n",
       "        1.09023548,  0.4491433 ,  1.75866068,  0.70304444,  1.05599913,\n",
       "        2.39361064,  3.24811986,  1.27404791,  1.0001798 ,  0.83237768,\n",
       "        0.72026792,  2.33785366,  0.86499808,  3.70148425,  0.77633403,\n",
       "        0.43645629,  0.5314994 ,  0.47254956,  1.3480487 ,  2.68808073,\n",
       "        1.6523534 ,  1.39734995,  1.39913542,  2.64955968,  0.16755857,\n",
       "        1.48151946,  2.75187184,  1.65662837,  0.07901571,  0.23596879,\n",
       "        6.41836168,  2.30293805,  0.05611807,  2.33883209,  0.26121116,\n",
       "        0.98488605,  0.39851055,  1.57321804,  1.62945807,  1.46865472,\n",
       "        1.61204411,  2.21421207,  1.45192956,  4.56951383,  2.54762393,\n",
       "        0.11193828,  0.48757326,  0.31975386,  1.9797846 ,  1.27984501,\n",
       "        2.58496276,  0.35414639,  0.61840639,  0.3378511 ,  1.52217943,\n",
       "        1.30079315,  0.92600549,  0.26614248,  1.13306916,  3.20868261,\n",
       "        1.12021736,  2.04691367,  2.16921584,  0.38531772,  0.62553021,\n",
       "        0.57964661,  3.14154916,  1.69812124,  1.58292228,  0.16168163,\n",
       "        1.75206443,  0.52971136,  0.29616332,  4.231597  ,  0.58840479,\n",
       "        1.51383136,  3.36667063,  1.35230335,  3.1794043 ,  1.21400966,\n",
       "        1.11247063,  0.18722794,  3.46217191,  3.22437123,  2.93766938,\n",
       "        2.62607969,  0.3238563 ,  0.45093063,  5.00984871,  3.12228876,\n",
       "        2.76825455,  3.97147184,  1.63639471,  1.2805852 ,  1.8490908 ,\n",
       "        0.74084181,  1.59494772,  3.72392108,  0.28976053,  1.24919873,\n",
       "        0.35403046,  0.17881713,  1.16975194,  0.7294173 ,  2.22416739,\n",
       "        3.19528858,  2.45446967,  1.62687681,  0.82894106,  0.14837572,\n",
       "        2.10420501,  1.95963684,  1.26395265,  0.04237461,  3.77137315,\n",
       "        0.33841323,  0.43081852,  1.37672031,  0.19061838,  0.7388981 ,\n",
       "        0.93437386,  0.49830927,  2.19890534,  1.31303962,  3.74261667,\n",
       "        0.78639348,  3.32865621,  0.80923451,  1.52460271,  1.35616737,\n",
       "        1.35052232,  1.61264214,  3.37410945,  2.30203736,  0.77549388,\n",
       "        0.723629  ,  0.41059784,  3.1623144 ,  0.55821285,  1.86596744,\n",
       "        1.31290582,  0.79611945,  0.91832567,  0.75713865,  3.1482453 ,\n",
       "        0.58254349,  0.71723846,  1.00375485,  2.6232502 ,  4.01112824,\n",
       "        5.12836554,  0.52046541,  1.29424897,  1.12599527,  1.46005869,\n",
       "        1.03660517,  1.24892719,  2.93955604,  3.30446633,  1.01808814,\n",
       "        0.96897273,  3.65430866,  1.52695493,  0.93273725,  2.16333858,\n",
       "        2.46139831,  2.75102368,  1.56511169,  1.91905307,  3.20573759,\n",
       "        6.12800686,  1.73152046,  3.13550456,  0.47358262,  0.54714938,\n",
       "        2.91662491,  2.42331869,  1.42533307,  1.60636439,  1.07505328,\n",
       "        5.20940198,  1.87631319,  3.58522474,  0.8903153 ,  0.7251981 ,\n",
       "        1.46754298,  2.67505983,  1.58643432,  2.09811183,  2.37917997,\n",
       "        1.68784196,  2.23176272,  0.40531445,  2.61466508,  0.40562125,\n",
       "        1.60077736,  1.31735073,  4.03981525,  1.14678184,  3.29328918,\n",
       "        1.32553235,  0.65563319,  3.13253461,  2.13431648,  1.1893634 ,\n",
       "        1.37578429,  0.6329473 ,  0.15513279,  0.19290142,  1.69584266,\n",
       "        1.21765139,  1.71989242,  1.50688054,  1.89881468,  2.8490045 ,\n",
       "        0.72061106,  2.65393369,  3.53261105,  0.18994473,  0.92797211,\n",
       "        1.72234366,  0.4351511 ,  1.28055111,  1.71284978,  0.30693804,\n",
       "        2.51299835,  0.47270185,  2.61040684,  0.80123431,  2.33019802,\n",
       "        0.50918547,  3.3605308 ,  0.58839459,  1.16116878,  0.12860145,\n",
       "        1.09157813,  0.76097624,  0.11892304,  0.65038207,  2.79809136,\n",
       "        3.63726087,  1.60054656,  0.80225998,  0.72503027,  0.57510652,\n",
       "        0.88511218,  4.0588353 ,  0.65873523,  0.51853004,  0.63269683,\n",
       "        7.3172839 ,  3.38259644,  0.87122969,  1.68828274,  1.11318354,\n",
       "        2.10258907,  1.41790318,  1.45579645,  1.43006264,  1.52037304,\n",
       "        0.26486364,  2.26846149,  0.99284421,  1.37515689,  1.24134515,\n",
       "        0.34676855,  1.60420259,  1.22650748,  0.89501517,  1.22531805,\n",
       "        1.31123086,  1.23507511,  1.22652754,  0.25765798,  1.71767576,\n",
       "        1.25018365,  0.82689861,  0.81504855,  1.54883657,  6.60284505,\n",
       "        1.54260881,  2.20368827,  1.3114722 ,  0.50948914,  1.77573435,\n",
       "        1.68692862,  0.77206042,  1.89297526,  3.19193188,  1.07668259,\n",
       "        0.88072823,  1.35435884,  1.5059011 ,  2.88134857,  3.05706713,\n",
       "        3.20317766,  0.42987587,  2.62760147,  0.87103226,  0.55915277,\n",
       "        2.07441262,  2.84687187,  0.546759  ,  0.5597102 ,  0.60483863,\n",
       "        1.6773876 ,  3.29624072,  1.16269678,  1.38560705,  5.05222411,\n",
       "        0.12308025,  0.37244136,  0.88910698,  2.75497104,  3.23965591,\n",
       "        2.84054193,  1.99585508,  0.15875971,  3.24616413,  1.32722589,\n",
       "        1.26811793,  1.69099104,  0.87306064,  1.15468059,  6.01695149,\n",
       "        0.244454  ,  1.27293415,  0.79440626,  0.05296256,  0.70262104,\n",
       "        0.82250759,  0.45007525,  2.59074671,  1.42485037,  1.70478733,\n",
       "        1.42684913,  1.20045569,  0.88597919,  0.9804202 ,  0.50381679,\n",
       "        2.03376513,  6.65529516,  0.95132034,  1.54445364,  2.11151911,\n",
       "        2.04719607,  0.06815083,  2.14288453,  0.46830267,  1.14061553,\n",
       "        0.1933522 ,  2.17277908,  1.30903578,  0.74265885,  0.87614796,\n",
       "        1.04131482,  2.34500055,  1.24478955,  4.61298044,  2.14402013,\n",
       "        0.41133889,  1.7620819 ,  0.66840257,  0.74652976,  0.11147551,\n",
       "        0.67760599,  1.0644857 ,  4.84510433,  0.73983005,  0.89114683,\n",
       "        4.4116152 ,  1.13760253,  1.28347077,  1.03859568,  0.9221159 ,\n",
       "        1.23389375,  1.37771298,  0.56940615,  1.81996857,  0.71458309,\n",
       "        1.43545693,  1.73252812,  0.32915947,  0.54587813,  0.33279299,\n",
       "        1.09861673,  1.54183211,  0.52142572,  1.10919521,  1.59614517,\n",
       "        0.74714065,  1.39581027,  1.90505591,  1.03282189,  1.70339636,\n",
       "        0.99537287,  2.77021267,  1.41604738,  1.8750632 ,  0.18272011,\n",
       "        1.469392  ,  2.80001075,  2.3553516 ,  0.29579137,  0.7820517 ,\n",
       "        0.89258516,  1.00026249,  0.95311196,  1.43111219,  2.88784665,\n",
       "        2.42098476,  1.02305048,  1.41746572,  1.34515004,  3.34536033,\n",
       "        2.95246386,  1.17975702,  2.11138026,  0.72350266,  3.44118627,\n",
       "        1.78381124,  1.56969667,  3.42794198,  0.75610098,  0.63761121,\n",
       "        2.56569115,  3.02161589,  1.85258111,  0.62965073,  3.45468474,\n",
       "        0.54661571,  1.38837312,  2.42993669,  1.75698688,  0.92217216,\n",
       "        1.18538413,  0.50766794,  1.68291873,  0.83591105,  2.10742855,\n",
       "        2.27569347,  0.98005349,  1.67779454, 13.57206861,  0.05667827,\n",
       "        2.69546878,  0.13927479,  0.97069364,  1.2515079 ,  1.78127984,\n",
       "        0.117339  ,  1.85403702,  0.4098788 ,  0.7110232 ,  2.44183098,\n",
       "        1.08099397,  0.61880372,  2.10065471,  0.05232467,  3.2223832 ,\n",
       "        3.47044178,  1.19011274,  1.29638743,  2.29906454,  7.29702623,\n",
       "        1.06930179,  1.25745986,  3.47004058,  0.89448335,  0.54086803,\n",
       "        4.93846315,  4.60946302,  0.63869962,  1.59024349,  1.03181343,\n",
       "        0.28747097,  1.07519591,  1.73436875,  1.75505627,  0.74958974,\n",
       "        2.15323994,  0.9291397 ,  0.52492731,  0.55154886,  1.12616711,\n",
       "        4.19461335,  0.92754928,  2.80441147,  0.87032185,  1.54062745,\n",
       "        5.79819183,  0.93927748,  5.44260195,  1.92109296,  1.55035284,\n",
       "        2.68453232,  2.52793632,  1.20015718,  2.17597155,  1.14843847,\n",
       "        0.56055905,  1.84159869,  4.13638313,  0.76649131,  0.97515972,\n",
       "        5.009848  ,  2.33010917,  2.78241093,  3.09064722,  1.4439993 ,\n",
       "        1.9904688 ,  0.56458325,  0.64748403,  2.07993863,  0.09604518,\n",
       "        2.44748924,  2.15331096,  0.47655134,  2.07378549,  2.22001639,\n",
       "        0.14597731,  0.47444904,  3.16748753,  0.77491018,  3.11017217,\n",
       "        1.95615079,  3.70820695,  2.3027104 ,  0.47811753,  1.72721002,\n",
       "        2.04153812,  2.22630097,  1.70495928,  2.12046218,  3.55004051,\n",
       "        1.00474952,  0.63364518,  2.14960142,  0.23482356,  1.7066675 ,\n",
       "        1.59489106,  0.57807514,  0.82396674,  0.95214871,  4.24187789,\n",
       "        1.99389966,  1.93851701,  6.69735707,  1.04714531,  1.71038881,\n",
       "        4.66396538,  1.56235663,  2.5006549 ,  1.94731827,  3.83575078,\n",
       "        4.06334516,  2.94999376,  2.44979475,  0.39835524,  0.71225303,\n",
       "        1.67209575,  2.77865862,  1.94647273,  1.61815074,  1.10708907,\n",
       "        2.34063076,  2.06568058,  0.52137638,  0.41304682,  0.2723704 ,\n",
       "        0.50904636,  1.14892844,  0.31176835,  1.55234912,  1.56896578,\n",
       "        0.54177905,  4.19865838,  0.07936376,  2.56904436,  1.1772076 ,\n",
       "        1.3197232 ,  1.12511469,  1.44998513,  0.22384081,  1.41116991,\n",
       "        1.17217273,  2.56691847,  2.60650486,  3.06432099,  1.67041685,\n",
       "        0.56946606,  1.62178669,  2.14297017,  1.67443277,  2.99077754,\n",
       "        0.94270669,  1.64720101,  0.58430326,  1.06445576,  0.52825712,\n",
       "        1.01932619,  0.1254598 ,  3.98604907,  3.47634538,  1.75207106,\n",
       "        2.08115184,  0.88362994,  0.67129527,  2.10725119,  2.36684906,\n",
       "        2.26745287,  0.78865348,  0.83915762,  2.49475362,  0.29413846,\n",
       "        2.46294394,  1.7523356 ,  0.7453768 ,  1.10592161,  0.35083521,\n",
       "        1.37589909,  0.71975462,  1.46607248,  1.31830766,  0.63687859,\n",
       "        0.44047385,  0.90371894,  0.2326202 ,  3.15183441,  2.28135592,\n",
       "        0.97929821,  0.13999344,  0.93838655,  1.11165639,  0.78903052,\n",
       "        4.25917427,  1.84163244,  1.43466017,  4.56226444,  0.57897165,\n",
       "        0.46493174,  0.6486007 ,  0.33467   ,  0.11278262,  1.5186377 ,\n",
       "        0.44848007,  3.92533534,  1.75202822,  1.47188005,  1.1396401 ,\n",
       "        1.30194256,  2.42497334,  0.35502997,  1.47169794,  3.67579439,\n",
       "        1.0146755 ,  6.33798284,  0.38578921,  0.37667392,  0.85949938,\n",
       "        1.8003068 ,  0.55184825,  0.74524072,  0.61744224,  1.00209556,\n",
       "        1.2315397 ,  0.43759817,  0.53983689,  1.79391839,  0.17475694,\n",
       "        1.27501547,  3.42396604,  4.1394214 ,  2.24357131,  3.8193039 ,\n",
       "        1.03134331,  1.48234662,  0.57509079,  1.03394287,  0.78149341,\n",
       "        1.38736319,  1.77602204,  1.01712186,  1.72510489,  1.78088893,\n",
       "        3.44426459,  1.51771749,  0.5778392 ,  0.63755055,  3.28498018,\n",
       "        1.35310742,  1.26903062,  3.54577947,  1.27349546,  2.74662384,\n",
       "        1.10573406,  1.14224548,  0.42474089,  1.19046716,  1.49910854,\n",
       "        5.8795939 ,  2.01228246,  2.23538328,  0.67563425,  1.75746609,\n",
       "        2.81517682,  1.34733927,  1.50871686,  0.84566534,  5.11990578,\n",
       "        1.86865476,  2.0667591 ,  2.13553376,  1.436049  ,  0.59399606,\n",
       "        0.46508669,  0.8716088 ,  2.07792084,  0.96060659,  5.6621155 ,\n",
       "        3.93239898,  2.95465391,  4.50363548,  1.63484532,  1.12703152,\n",
       "        1.15449053,  1.80316034,  0.47394759,  1.12215154,  2.52358306,\n",
       "        3.7532373 ,  1.21801577,  1.48609143,  0.2245809 ,  4.57012054,\n",
       "        2.49405141,  1.8848442 ,  1.2937322 ,  1.04804822,  2.78887454,\n",
       "        0.95076602,  0.2625572 ,  1.78640852,  1.39364241,  1.79811084,\n",
       "        4.12414274,  2.68929929,  1.51451312,  2.37534379,  0.48251597,\n",
       "        1.40912061,  1.52950139,  1.33426841,  1.0332167 ,  0.94799855,\n",
       "        0.31327364,  1.25818469,  1.37998684,  0.2644602 ,  2.8862022 ,\n",
       "        0.21554309,  0.50477169,  0.99830604,  0.91586099,  0.81661746,\n",
       "        1.5742815 ,  1.21247902,  0.67150716,  2.4461688 ,  0.71641044,\n",
       "        1.15345369,  2.68668088,  4.59190632,  4.38523005,  1.11735651,\n",
       "        1.0169548 ,  1.91338917,  0.22553071,  0.80268686,  0.59771352,\n",
       "        1.41016767,  0.67196006,  2.23903496,  0.40631702,  0.63440251])"
      ]
     },
     "execution_count": 17,
     "metadata": {},
     "output_type": "execute_result"
    }
   ],
   "source": [
    "X"
   ]
  },
  {
   "cell_type": "code",
   "execution_count": 19,
   "id": "ab3823e9",
   "metadata": {},
   "outputs": [
    {
     "data": {
      "text/plain": [
       "(array([0.37177485, 0.24169061, 0.09165026, 0.02365168, 0.00739115,\n",
       "        0.00221735, 0.        , 0.        , 0.        , 0.00073912]),\n",
       " array([ 0.04237461,  1.39534401,  2.74831341,  4.10128281,  5.45425221,\n",
       "         6.80722161,  8.16019101,  9.51316041, 10.86612981, 12.21909921,\n",
       "        13.57206861]),\n",
       " <BarContainer object of 10 artists>)"
      ]
     },
     "execution_count": 19,
     "metadata": {},
     "output_type": "execute_result"
    },
    {
     "data": {
      "image/png": "[encoded data removed]",
      "text/plain": [
       "<Figure size 432x288 with 1 Axes>"
      ]
     },
     "metadata": {
      "needs_background": "light"
     },
     "output_type": "display_data"
    }
   ],
   "source": [
    "plt.hist(X,density = True)"
   ]
  },
  {
   "cell_type": "code",
   "execution_count": null,
   "id": "02a8dd6c",
   "metadata": {},
   "outputs": [],
   "source": []
  }
 ],
 "metadata": {
  "kernelspec": {
   "display_name": "Python 3 (ipykernel)",
   "language": "python",
   "name": "python3"
  },
  "language_info": {
   "codemirror_mode": {
    "name": "ipython",
    "version": 3
   },
   "file_extension": ".py",
   "mimetype": "text/x-python",
   "name": "python",
   "nbconvert_exporter": "python",
   "pygments_lexer": "ipython3",
   "version": "3.9.7"
  }
 },
 "nbformat": 4,
 "nbformat_minor": 5
}

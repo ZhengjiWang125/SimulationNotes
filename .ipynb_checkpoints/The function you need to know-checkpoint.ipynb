{
 "cells": [
  {
   "cell_type": "code",
   "execution_count": 1,
   "id": "cc077307",
   "metadata": {},
   "outputs": [],
   "source": [
    "import numpy as np\n",
    "import scipy.stats as spst\n",
    "import scipy.special as spsp\n"
   ]
  },
  {
   "cell_type": "code",
   "execution_count": 8,
   "id": "c16ac10d",
   "metadata": {},
   "outputs": [
    {
     "data": {
      "text/plain": [
       "1"
      ]
     },
     "execution_count": 8,
     "metadata": {},
     "output_type": "execute_result"
    }
   ],
   "source": [
    "spst.geom.rvs(0.5)\n"
   ]
  },
  {
   "cell_type": "code",
   "execution_count": 10,
   "id": "c17c391e",
   "metadata": {},
   "outputs": [
    {
     "data": {
      "text/plain": [
       "0.5"
      ]
     },
     "execution_count": 10,
     "metadata": {},
     "output_type": "execute_result"
    }
   ],
   "source": [
    "spst.geom.pmf(1,0.5)"
   ]
  },
  {
   "cell_type": "code",
   "execution_count": 16,
   "id": "c795840b",
   "metadata": {},
   "outputs": [
    {
     "data": {
      "text/plain": [
       "4"
      ]
     },
     "execution_count": 16,
     "metadata": {},
     "output_type": "execute_result"
    }
   ],
   "source": [
    "spst.poisson.rvs(10)"
   ]
  },
  {
   "cell_type": "code",
   "execution_count": 15,
   "id": "b2399606",
   "metadata": {},
   "outputs": [
    {
     "data": {
      "text/plain": [
       "0.12511003572113372"
      ]
     },
     "execution_count": 15,
     "metadata": {},
     "output_type": "execute_result"
    }
   ],
   "source": [
    "spst.poisson.pmf(10,10)"
   ]
  },
  {
   "cell_type": "code",
   "execution_count": 17,
   "id": "0bfa0fce",
   "metadata": {},
   "outputs": [
    {
     "data": {
      "text/plain": [
       "0.0004539992976248485"
      ]
     },
     "execution_count": 17,
     "metadata": {},
     "output_type": "execute_result"
    }
   ],
   "source": [
    "spst.expon.pdf(1,scale = 1/10)"
   ]
  },
  {
   "cell_type": "code",
   "execution_count": 20,
   "id": "0c8f152a",
   "metadata": {},
   "outputs": [
    {
     "data": {
      "text/plain": [
       "1.013777119630298e-06"
      ]
     },
     "execution_count": 20,
     "metadata": {},
     "output_type": "execute_result"
    }
   ],
   "source": [
    "spst.gamma.pdf(1,10,scale = 1/1)"
   ]
  },
  {
   "cell_type": "code",
   "execution_count": 21,
   "id": "d2a8f894",
   "metadata": {},
   "outputs": [
    {
     "data": {
      "text/plain": [
       "0.24197072451914337"
      ]
     },
     "execution_count": 21,
     "metadata": {},
     "output_type": "execute_result"
    }
   ],
   "source": [
    "spst.norm.pdf(1)"
   ]
  }
 ],
 "metadata": {
  "kernelspec": {
   "display_name": "Python 3 (ipykernel)",
   "language": "python",
   "name": "python3"
  },
  "language_info": {
   "codemirror_mode": {
    "name": "ipython",
    "version": 3
   },
   "file_extension": ".py",
   "mimetype": "text/x-python",
   "name": "python",
   "nbconvert_exporter": "python",
   "pygments_lexer": "ipython3",
   "version": "3.9.7"
  }
 },
 "nbformat": 4,
 "nbformat_minor": 5
}

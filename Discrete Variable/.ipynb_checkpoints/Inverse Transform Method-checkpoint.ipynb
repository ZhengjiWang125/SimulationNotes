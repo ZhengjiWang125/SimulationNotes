{
 "cells": [
  {
   "cell_type": "markdown",
   "id": "df433f81",
   "metadata": {},
   "source": [
    "## Normal Inverse Tranform for discrete"
   ]
  },
  {
   "cell_type": "code",
   "execution_count": 2,
   "id": "1e1164b0",
   "metadata": {},
   "outputs": [],
   "source": [
    "import numpy as np\n",
    "import matplotlib.pyplot as plt\n",
    "import scipy.stats as spst\n",
    "import scipy.special as spsp"
   ]
  },
  {
   "cell_type": "markdown",
   "id": "3e91cf3a",
   "metadata": {},
   "source": [
    "### Example"
   ]
  },
  {
   "cell_type": "code",
   "execution_count": 28,
   "id": "7baa98e7",
   "metadata": {},
   "outputs": [
    {
     "data": {
      "text/plain": [
       "<matplotlib.collections.PathCollection at 0x2882ad599a0>"
      ]
     },
     "execution_count": 28,
     "metadata": {},
     "output_type": "execute_result"
    },
    {
     "data": {
      "image/png": "[encoded data removed]",
      "text/plain": [
       "<Figure size 432x288 with 1 Axes>"
      ]
     },
     "metadata": {
      "needs_background": "light"
     },
     "output_type": "display_data"
    }
   ],
   "source": [
    "def sampling():\n",
    "    x = np.random.rand()\n",
    "    if x <= 0.4:\n",
    "        return 5\n",
    "    elif x <= 0.6:\n",
    "        return 4\n",
    "    elif x <= 0.8:\n",
    "        return 2\n",
    "    elif x <= 0.9:\n",
    "        return 1\n",
    "    else:\n",
    "        return 3\n",
    "\n",
    "samples = [sampling() for i in range(10000)]\n",
    "values,counts = np.unique(samples,return_counts = True)\n",
    "plt.bar(values,counts/10000,zorder = 0)\n",
    "x = [1,2,3,4,5]\n",
    "y = [0.1,0.2,0.1,0.2,0.4]\n",
    "plt.scatter(x,y)"
   ]
  },
  {
   "cell_type": "markdown",
   "id": "372d2c53",
   "metadata": {},
   "source": [
    "### Unifrom Distribution"
   ]
  },
  {
   "cell_type": "code",
   "execution_count": 36,
   "id": "fc8257ee",
   "metadata": {},
   "outputs": [],
   "source": [
    "#sample from uniform distribution from 1,...n\n",
    "n = 8\n",
    "x = np.random.rand(10000)\n",
    "X = np.floor(n * x) + 1\n",
    "value,counts = np.unique(X, return_counts = True)"
   ]
  },
  {
   "cell_type": "code",
   "execution_count": 37,
   "id": "44e445c9",
   "metadata": {},
   "outputs": [
    {
     "data": {
      "text/plain": [
       "<BarContainer object of 8 artists>"
      ]
     },
     "execution_count": 37,
     "metadata": {},
     "output_type": "execute_result"
    },
    {
     "data": {
      "image/png": "[encoded data removed]",
      "text/plain": [
       "<Figure size 432x288 with 1 Axes>"
      ]
     },
     "metadata": {
      "needs_background": "light"
     },
     "output_type": "display_data"
    }
   ],
   "source": [
    "x = np.arange(1,9)\n",
    "pdf = np.repeat(1/8,8)\n",
    "plt.scatter(x,pdf)\n",
    "plt.bar(value,counts/10000,zorder = 0)\n",
    "#Remember, discrete use bar chart. Hist is for continous"
   ]
  },
  {
   "cell_type": "markdown",
   "id": "25618e30",
   "metadata": {},
   "source": [
    "### Geometric Distribution"
   ]
  },
  {
   "cell_type": "code",
   "execution_count": 38,
   "id": "68565e5f",
   "metadata": {},
   "outputs": [
    {
     "data": {
      "text/plain": [
       "<BarContainer object of 13 artists>"
      ]
     },
     "execution_count": 38,
     "metadata": {},
     "output_type": "execute_result"
    },
    {
     "data": {
      "image/png": "[encoded data removed]",
      "text/plain": [
       "<Figure size 432x288 with 1 Axes>"
      ]
     },
     "metadata": {
      "needs_background": "light"
     },
     "output_type": "display_data"
    }
   ],
   "source": [
    "# Sx = {1,2,3,4,.......}\n",
    "# p(x) = p * (1-p)^(x-1)\n",
    "# F(x) = 1 - (1-p)^x\n",
    "# x = logU / log(1-p)\n",
    "p=0.5\n",
    "\n",
    "x = np.arange(1,20)\n",
    "y = p *(1-p)**(x-1)\n",
    "plt.scatter(x,y)\n",
    "\n",
    "X = np.floor(np.log(np.random.rand(10000))/(np.log(1-p)))+1\n",
    "\n",
    "values,counts = np.unique(X,return_counts = True)\n",
    "plt.bar(values,counts/10000,zorder = 0)"
   ]
  },
  {
   "cell_type": "markdown",
   "id": "99a3e832",
   "metadata": {},
   "source": [
    "### Bernoulli Distribution"
   ]
  },
  {
   "cell_type": "markdown",
   "id": "84576f45",
   "metadata": {},
   "source": [
    "The idea is that we can use geometric to recreate bernoulli distribution. \n",
    "We first sample from a geometric, the return value would be the position of the first 1 appered.\n",
    "We continued unitl we are running out."
   ]
  },
  {
   "cell_type": "code",
   "execution_count": 3,
   "id": "7e7d1b4e",
   "metadata": {},
   "outputs": [
    {
     "data": {
      "text/plain": [
       "array([0., 0., 1., 1., 0., 1., 1., 1., 0., 1., 0., 1., 0., 0., 0., 0., 0.,\n",
       "       0., 1., 1.])"
      ]
     },
     "execution_count": 3,
     "metadata": {},
     "output_type": "execute_result"
    }
   ],
   "source": [
    "def bern_rvs(p,n):\n",
    "    x = np.zeros(n+1)\n",
    "    N = 0\n",
    "    while (N<n):\n",
    "        N += spst.geom.rvs(p)\n",
    "        if N <= n:\n",
    "            x[N] = 1\n",
    "    return x[1:]\n",
    "    \n",
    "bern_rvs(0.5,20)"
   ]
  },
  {
   "cell_type": "code",
   "execution_count": 7,
   "id": "22646ddc",
   "metadata": {},
   "outputs": [
    {
     "data": {
      "text/plain": [
       "<matplotlib.collections.PathCollection at 0x21d89a12430>"
      ]
     },
     "execution_count": 7,
     "metadata": {},
     "output_type": "execute_result"
    },
    {
     "data": {
      "image/png": "[encoded data removed]",
      "text/plain": [
       "<Figure size 432x288 with 1 Axes>"
      ]
     },
     "metadata": {
      "needs_background": "light"
     },
     "output_type": "display_data"
    }
   ],
   "source": [
    "value,counts = np.unique(bern_rvs(0.5,1000),return_counts = True)\n",
    "plt.bar(value,counts/1000,zorder = 0)\n",
    "x = [0,1]\n",
    "pdf =[0.5,0.5]\n",
    "plt.scatter(x,pdf)"
   ]
  },
  {
   "cell_type": "markdown",
   "id": "7b47e6db",
   "metadata": {},
   "source": [
    "### Binomial Distribution"
   ]
  },
  {
   "cell_type": "markdown",
   "id": "0fc3bf63",
   "metadata": {},
   "source": [
    "We can sample Binomial Distribution using its relationship between P(x+1) and P(x)"
   ]
  },
  {
   "cell_type": "code",
   "execution_count": 19,
   "id": "32305fdc",
   "metadata": {},
   "outputs": [],
   "source": [
    "def sampling(p,n):\n",
    "    i = 0\n",
    "    pr = (1-p)**n\n",
    "    F = pr\n",
    "    U = spst.uniform.rvs()\n",
    "    while U > F:\n",
    "        pr = (n-i)*p/(i+1)/(1-p)*pr \n",
    "        F += pr\n",
    "        i += 1\n",
    "    return i\n",
    "    "
   ]
  },
  {
   "cell_type": "code",
   "execution_count": 25,
   "id": "40cd54c0",
   "metadata": {},
   "outputs": [
    {
     "data": {
      "text/plain": [
       "<matplotlib.collections.PathCollection at 0x21d8adf6df0>"
      ]
     },
     "execution_count": 25,
     "metadata": {},
     "output_type": "execute_result"
    },
    {
     "data": {
      "image/png": "[encoded data removed]",
      "text/plain": [
       "<Figure size 432x288 with 1 Axes>"
      ]
     },
     "metadata": {
      "needs_background": "light"
     },
     "output_type": "display_data"
    }
   ],
   "source": [
    "samples = [sampling(0.5,10) for i in range(100000)]\n",
    "values,counts = np.unique(samples,return_counts = True)\n",
    "plt.bar(values,counts/100000,zorder = 0)\n",
    "x = np.arange(0,11)\n",
    "plt.scatter(x,spst.binom.pmf(x,10,0.5))"
   ]
  },
  {
   "cell_type": "markdown",
   "id": "77144526",
   "metadata": {},
   "source": [
    "### Poisson Distribution"
   ]
  },
  {
   "cell_type": "markdown",
   "id": "5640f91d",
   "metadata": {},
   "source": [
    "The idea is the same as Binomial Distribution. "
   ]
  },
  {
   "cell_type": "code",
   "execution_count": 37,
   "id": "9c458a41",
   "metadata": {},
   "outputs": [],
   "source": [
    "def sampling(lmbda):\n",
    "    pr = np.exp(-lmbda)\n",
    "    F = pr\n",
    "    i = 0\n",
    "    U = spst.uniform.rvs()\n",
    "    while U > F:\n",
    "        pr = pr * lmbda/(i+1)\n",
    "        F = F + pr\n",
    "        i += 1\n",
    "    return i\n",
    "    "
   ]
  },
  {
   "cell_type": "code",
   "execution_count": 48,
   "id": "f2a2e353",
   "metadata": {},
   "outputs": [
    {
     "name": "stdout",
     "output_type": "stream",
     "text": [
      "[ 1  2  3  4  5  6  7  8  9 10 11 12 13 14 15 16 17 18 19 20 21 24]\n"
     ]
    },
    {
     "data": {
      "text/plain": [
       "<matplotlib.collections.PathCollection at 0x21d8c54e490>"
      ]
     },
     "execution_count": 48,
     "metadata": {},
     "output_type": "execute_result"
    },
    {
     "data": {
      "image/png": "[encoded data removed]",
      "text/plain": [
       "<Figure size 432x288 with 1 Axes>"
      ]
     },
     "metadata": {
      "needs_background": "light"
     },
     "output_type": "display_data"
    }
   ],
   "source": [
    "samples = [sampling(10) for i in range(10000)]\n",
    "values,counts = np.unique(samples,return_counts = True)\n",
    "print(values)\n",
    "plt.bar(values,counts/10000,zorder = 0)\n",
    "x = np.arange(0,26)\n",
    "plt.scatter(x,spst.poisson.pmf(x,10))"
   ]
  },
  {
   "cell_type": "markdown",
   "id": "0d18281c",
   "metadata": {},
   "source": [
    "## Change Search Sequence"
   ]
  },
  {
   "cell_type": "markdown",
   "id": "c2b1e702",
   "metadata": {},
   "source": [
    "If we need to make a sequence of comparisons to use the inverse method, then the way to minimize the run-time is to check the most likely values first, and go in descending order of probability of occurring. "
   ]
  },
  {
   "cell_type": "markdown",
   "id": "b649023c",
   "metadata": {},
   "source": [
    "### For Finite Distribution"
   ]
  },
  {
   "cell_type": "code",
   "execution_count": 56,
   "id": "4b6069e9",
   "metadata": {},
   "outputs": [],
   "source": [
    "def sampling(x,p,m):\n",
    "    #here x stands for values\n",
    "    # p stands for probabilities\n",
    "    # m stands for how many samples I want to generate\n",
    "    Us = spst.uniform.rvs(size = m)\n",
    "    X = np.zeros(m)\n",
    "    n = len(x)\n",
    "    p_inds = np.argsort(p)\n",
    "    p_sort = np.flip(p[p_inds])\n",
    "    x_sort = np.flip(x[p_inds])\n",
    "    F_sort = np.cumsum(p_sort)\n",
    "    for i in range(m):\n",
    "        U = Us[i]\n",
    "        j = 0\n",
    "        while j < n-1:\n",
    "            if U <= F_sort[j]:\n",
    "                break\n",
    "            else:\n",
    "                j += 1\n",
    "        X[i] = x_sort[j]\n",
    "    return X\n",
    "\n",
    "\n"
   ]
  },
  {
   "cell_type": "code",
   "execution_count": 67,
   "id": "48ec42cc",
   "metadata": {},
   "outputs": [
    {
     "name": "stdout",
     "output_type": "stream",
     "text": [
      "0.0971\n",
      "0.1029\n",
      "0.1983\n",
      "0.4967\n",
      "0.105\n"
     ]
    }
   ],
   "source": [
    "x = np.array([1, 2, 3, 4, 5])\n",
    "p = np.array([0.1, 0.1, 0.2, 0.5, 0.1])\n",
    "X = sampling(x, p, 10000)\n",
    "print(np.mean(X==1))\n",
    "print(np.mean(X==2))\n",
    "print(np.mean(X==3))\n",
    "print(np.mean(X==4))\n",
    "print(np.mean(X==5))"
   ]
  },
  {
   "cell_type": "markdown",
   "id": "5c2c1b29",
   "metadata": {},
   "source": [
    "### For infinite Distribution"
   ]
  },
  {
   "cell_type": "markdown",
   "id": "e2ca4743",
   "metadata": {},
   "source": [
    "Things are not as easy in infinite case. You can't just list all the probabilities and values.\n",
    "Instead you have to pick the one that has the largest probability.\n",
    "What you can do is examine on p(x+1)/p(x)"
   ]
  },
  {
   "cell_type": "code",
   "execution_count": 72,
   "id": "e1eba22b",
   "metadata": {},
   "outputs": [],
   "source": [
    "def PoissonSearch(lmbda):\n",
    "    i  = 0\n",
    "    pr = np.exp(-lmbda)\n",
    "    F = pr\n",
    "    while i < int(np.floor(lmbda)):\n",
    "        pr = pr * lmbda /(i+1)\n",
    "        F = F + pr\n",
    "        i += 1\n",
    "    U = spst.uniform.rvs()\n",
    "    if F > U:\n",
    "        while F > U:\n",
    "            F = F - pr\n",
    "            pr = i * pr / lmbda\n",
    "            i = i - 1\n",
    "        return i+1\n",
    "    elif F < U:\n",
    "        while F < U:\n",
    "            i = i + 1\n",
    "            pr = lmbda / i * pr\n",
    "            F = F + pr\n",
    "        return i\n",
    "    else:\n",
    "        return i\n",
    "        "
   ]
  },
  {
   "cell_type": "code",
   "execution_count": 74,
   "id": "81847951",
   "metadata": {},
   "outputs": [
    {
     "data": {
      "text/plain": [
       "<matplotlib.collections.PathCollection at 0x21d8b35e400>"
      ]
     },
     "execution_count": 74,
     "metadata": {},
     "output_type": "execute_result"
    },
    {
     "data": {
      "image/png": "[encoded data removed]",
      "text/plain": [
       "<Figure size 432x288 with 1 Axes>"
      ]
     },
     "metadata": {
      "needs_background": "light"
     },
     "output_type": "display_data"
    }
   ],
   "source": [
    "samples = [PoissonSearch(10) for i in range(10000)]\n",
    "values,counts = np.unique(samples,return_counts = True)\n",
    "plt.bar(values,counts/10000,zorder = 0)\n",
    "x = np.arange(0,26)\n",
    "plt.scatter(x,spst.poisson.pmf(x,10))"
   ]
  },
  {
   "cell_type": "code",
   "execution_count": null,
   "id": "c087b9a1",
   "metadata": {},
   "outputs": [],
   "source": []
  }
 ],
 "metadata": {
  "kernelspec": {
   "display_name": "Python 3 (ipykernel)",
   "language": "python",
   "name": "python3"
  },
  "language_info": {
   "codemirror_mode": {
    "name": "ipython",
    "version": 3
   },
   "file_extension": ".py",
   "mimetype": "text/x-python",
   "name": "python",
   "nbconvert_exporter": "python",
   "pygments_lexer": "ipython3",
   "version": "3.9.7"
  }
 },
 "nbformat": 4,
 "nbformat_minor": 5
}

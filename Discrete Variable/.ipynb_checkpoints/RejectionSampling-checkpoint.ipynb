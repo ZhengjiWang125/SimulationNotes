{
 "cells": [
  {
   "cell_type": "markdown",
   "id": "8c9468fb",
   "metadata": {},
   "source": [
    "## Rejection Sampling for discrete variable basic"
   ]
  },
  {
   "cell_type": "code",
   "execution_count": 1,
   "id": "d7439367",
   "metadata": {},
   "outputs": [],
   "source": [
    "import numpy as np\n",
    "import matplotlib.pyplot as plt\n",
    "import scipy.stats as spst\n",
    "import scipy.special as spsp"
   ]
  },
  {
   "cell_type": "markdown",
   "id": "c86c97ad",
   "metadata": {},
   "source": [
    "We have p(x), which is the target distribution. We can't easily sample from p(x)\n",
    "We instead use q(x), which is easy to sample and its space includes p(x).\n",
    "We want to find c>1 such that p(x)/q(x)<=c for all x in the space\n",
    "Step 1 Generate U, sample from q(x), denote it as Y\n",
    "Step 2 if U<p(y)/c/q(y), return x = y else go back to step 1\n"
   ]
  },
  {
   "cell_type": "code",
   "execution_count": 13,
   "id": "3eb3255c",
   "metadata": {},
   "outputs": [],
   "source": [
    "x = [1,2,3,4]\n",
    "p = [0.1,0.6,0.1,0.2]\n",
    "p2 = np.repeat(0.25,4)\n",
    "c = np.max(p/p2)\n",
    "def rejection_sampling():\n",
    "    U  = spst.uniform.rvs()\n",
    "    Y = np.floor(4*np.random.rand())+1\n",
    "    while U > p[int(Y-1)]/c/p2[int(Y-1)]:\n",
    "        U = spst.uniform.rvs()\n",
    "        Y = np.floor(4*np.random.rand())+1\n",
    "    return x[int(Y-1)]\n",
    "        "
   ]
  },
  {
   "cell_type": "code",
   "execution_count": 15,
   "id": "02ec75f9",
   "metadata": {},
   "outputs": [
    {
     "data": {
      "text/plain": [
       "<BarContainer object of 4 artists>"
      ]
     },
     "execution_count": 15,
     "metadata": {},
     "output_type": "execute_result"
    },
    {
     "data": {
      "image/png": "[encoded data removed]",
      "text/plain": [
       "<Figure size 432x288 with 1 Axes>"
      ]
     },
     "metadata": {
      "needs_background": "light"
     },
     "output_type": "display_data"
    }
   ],
   "source": [
    "samples = [rejection_sampling() for i in range(10000)]\n",
    "values,counts = np.unique(samples,return_counts = True)\n",
    "plt.bar(values,counts/10000)"
   ]
  },
  {
   "cell_type": "markdown",
   "id": "0a6538e4",
   "metadata": {},
   "source": [
    "### Find the best p"
   ]
  },
  {
   "cell_type": "markdown",
   "id": "a97ce6ff",
   "metadata": {},
   "source": [
    "The best p is achieved when smallest c is achieved. You need to create a function that returns different c, find the smallest c and argmin(C) to get the p. What lest is simply rejection sampling."
   ]
  },
  {
   "cell_type": "code",
   "execution_count": 32,
   "id": "78899425",
   "metadata": {},
   "outputs": [],
   "source": [
    "x = [0,1,2,3,4,5]\n",
    "p = [0.4,0.25,0.15,0.1,0.05,0.05]\n",
    "#use geoetric distribution\n",
    "def createp(k):\n",
    "    p1 = np.array([(1-k)**x*k for x in range(0,6)])\n",
    "    return np.max(p/p1)\n",
    "mylist = []\n",
    "i = 0.1\n",
    "while i <= 1:\n",
    "    mylist.append(createp(i))\n",
    "    i += 0.1\n",
    "a = np.argmin(mylist)"
   ]
  },
  {
   "cell_type": "code",
   "execution_count": 60,
   "id": "487690c6",
   "metadata": {},
   "outputs": [
    {
     "data": {
      "text/plain": [
       "0.30000000000000004"
      ]
     },
     "execution_count": 60,
     "metadata": {},
     "output_type": "execute_result"
    }
   ],
   "source": [
    "a\n",
    "p0 = 0.1 + a*0.1\n",
    "c = mylist[a]\n",
    "#when p is 0.3 it would be the best bet\n",
    "c\n",
    "p0"
   ]
  },
  {
   "cell_type": "code",
   "execution_count": 76,
   "id": "67feacc7",
   "metadata": {},
   "outputs": [],
   "source": [
    "def rejection_sampling():\n",
    "    U = spst.uniform.rvs()\n",
    "    Y = spst.geom.rvs(p0)-1\n",
    "    while Y > 5 or U > p[Y]/c/((1-p0)**Y*p0):\n",
    "        U = spst.uniform.rvs()\n",
    "        Y = spst.geom.rvs(p0)-1\n",
    "    return Y"
   ]
  },
  {
   "cell_type": "code",
   "execution_count": 77,
   "id": "741b4b80",
   "metadata": {},
   "outputs": [
    {
     "data": {
      "text/plain": [
       "3"
      ]
     },
     "execution_count": 77,
     "metadata": {},
     "output_type": "execute_result"
    }
   ],
   "source": [
    "rejection_sampling()"
   ]
  },
  {
   "cell_type": "code",
   "execution_count": 78,
   "id": "c5669566",
   "metadata": {},
   "outputs": [
    {
     "data": {
      "text/plain": [
       "<BarContainer object of 6 artists>"
      ]
     },
     "execution_count": 78,
     "metadata": {},
     "output_type": "execute_result"
    },
    {
     "data": {
      "image/png": "[encoded data removed]",
      "text/plain": [
       "<Figure size 432x288 with 1 Axes>"
      ]
     },
     "metadata": {
      "needs_background": "light"
     },
     "output_type": "display_data"
    }
   ],
   "source": [
    "samples = [rejection_sampling() for i in range(10000)]\n",
    "values,counts = np.unique(samples,return_counts = True)\n",
    "plt.bar(values,counts/10000)"
   ]
  }
 ],
 "metadata": {
  "kernelspec": {
   "display_name": "Python 3 (ipykernel)",
   "language": "python",
   "name": "python3"
  },
  "language_info": {
   "codemirror_mode": {
    "name": "ipython",
    "version": 3
   },
   "file_extension": ".py",
   "mimetype": "text/x-python",
   "name": "python",
   "nbconvert_exporter": "python",
   "pygments_lexer": "ipython3",
   "version": "3.9.7"
  }
 },
 "nbformat": 4,
 "nbformat_minor": 5
}

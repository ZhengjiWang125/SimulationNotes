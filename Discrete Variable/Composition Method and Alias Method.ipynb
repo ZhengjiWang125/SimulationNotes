{
 "cells": [
  {
   "cell_type": "markdown",
   "id": "d5800610",
   "metadata": {},
   "source": [
    "## Composition Method"
   ]
  },
  {
   "cell_type": "code",
   "execution_count": 2,
   "id": "777f619f",
   "metadata": {},
   "outputs": [],
   "source": [
    "import numpy as np"
   ]
  },
  {
   "cell_type": "markdown",
   "id": "4220a953",
   "metadata": {},
   "source": [
    "1 first sample which group to choose\n",
    "2.given the group sample the distribution"
   ]
  },
  {
   "cell_type": "code",
   "execution_count": 10,
   "id": "bcb0fbc9",
   "metadata": {},
   "outputs": [
    {
     "data": {
      "text/plain": [
       "13"
      ]
     },
     "execution_count": 10,
     "metadata": {},
     "output_type": "execute_result"
    }
   ],
   "source": [
    "#first write down the function of the subtree\n",
    "#Then write the main function\n",
    "\n",
    "\n",
    "def sample_geometric(p):\n",
    "    return int(np.floor(np.log(np.random.rand()))/np.log(1-p)+1)\n",
    "def sampling():\n",
    "    U = np.random.rand()\n",
    "    if U < 0.5:\n",
    "        return sample_geometric(0.1)\n",
    "    elif U < 0.9:\n",
    "        return sample_geometric(0.15)\n",
    "    else:\n",
    "        return sample_geometric(0.05)\n",
    "\n",
    "\n",
    "sampling()\n"
   ]
  }
 ],
 "metadata": {
  "kernelspec": {
   "display_name": "Python 3 (ipykernel)",
   "language": "python",
   "name": "python3"
  },
  "language_info": {
   "codemirror_mode": {
    "name": "ipython",
    "version": 3
   },
   "file_extension": ".py",
   "mimetype": "text/x-python",
   "name": "python",
   "nbconvert_exporter": "python",
   "pygments_lexer": "ipython3",
   "version": "3.9.7"
  }
 },
 "nbformat": 4,
 "nbformat_minor": 5
}

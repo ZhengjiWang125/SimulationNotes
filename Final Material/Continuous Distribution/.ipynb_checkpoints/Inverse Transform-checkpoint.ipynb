{
 "cells": [
  {
   "cell_type": "markdown",
   "id": "8789c446",
   "metadata": {},
   "source": [
    "# Inverse Transform"
   ]
  },
  {
   "cell_type": "code",
   "execution_count": 3,
   "id": "5a005696",
   "metadata": {},
   "outputs": [],
   "source": [
    "import numpy as np\n",
    "import matplotlib.pyplot as plt\n",
    "import scipy.stats as spst\n",
    "import scipy.special as spsp"
   ]
  },
  {
   "cell_type": "code",
   "execution_count": 4,
   "id": "8f1fd9a7",
   "metadata": {},
   "outputs": [
    {
     "data": {
      "text/plain": [
       "'\\nThe difference is \\nF-1(u) = inf{x: F(x) = u}\\n'"
      ]
     },
     "execution_count": 4,
     "metadata": {},
     "output_type": "execute_result"
    }
   ],
   "source": [
    "'''\n",
    "The difference is \n",
    "F-1(u) = inf{x: F(x) = u}\n",
    "'''"
   ]
  },
  {
   "cell_type": "markdown",
   "id": "dd974475",
   "metadata": {},
   "source": [
    "Example"
   ]
  },
  {
   "cell_type": "code",
   "execution_count": 5,
   "id": "8af95d2a",
   "metadata": {},
   "outputs": [
    {
     "data": {
      "image/png": "[encoded data removed]",
      "text/plain": [
       "<Figure size 432x288 with 1 Axes>"
      ]
     },
     "metadata": {
      "needs_background": "light"
     },
     "output_type": "display_data"
    }
   ],
   "source": [
    "#f(x) = x from 0<=x<=1 (2-x) from 1<=x <= 2\n",
    "#F(x) = x**2/2 form [0,1] 1-(2-x)**2/2\n",
    "def sampling():\n",
    "    U = np.random.rand()\n",
    "    if U <= 0.5:\n",
    "        return np.sqrt(2*U)\n",
    "    else:\n",
    "        return 2-np.sqrt(2*(1-U))\n",
    "        \n",
    "samples = [sampling() for i in range(10000)]\n",
    "plt.hist(samples,density = True,bins = 100)\n",
    "plt.show()"
   ]
  },
  {
   "cell_type": "code",
   "execution_count": 10,
   "id": "8f267657",
   "metadata": {},
   "outputs": [
    {
     "data": {
      "text/plain": [
       "[<matplotlib.lines.Line2D at 0x1a2c0efea60>]"
      ]
     },
     "execution_count": 10,
     "metadata": {},
     "output_type": "execute_result"
    },
    {
     "data": {
      "image/png": "[encoded data removed]",
      "text/plain": [
       "<Figure size 432x288 with 1 Axes>"
      ]
     },
     "metadata": {
      "needs_background": "light"
     },
     "output_type": "display_data"
    }
   ],
   "source": [
    "#Let x conforms to exp(lmbda)\n",
    "#F(x) = 1 - exp(-lmbda*x)\n",
    "def sampling(lmbda):\n",
    "    U = np.random.rand()\n",
    "    return -np.log(U)/lmbda\n",
    "\n",
    "samples = [sampling(10) for i in range(10000)]\n",
    "plt.hist(samples,density = True, bins = 30)\n",
    "x = np.linspace(0,1.2,1000)\n",
    "plt.plot(x,spst.expon.pdf(x,scale = 1/10))"
   ]
  }
 ],
 "metadata": {
  "kernelspec": {
   "display_name": "Python 3 (ipykernel)",
   "language": "python",
   "name": "python3"
  },
  "language_info": {
   "codemirror_mode": {
    "name": "ipython",
    "version": 3
   },
   "file_extension": ".py",
   "mimetype": "text/x-python",
   "name": "python",
   "nbconvert_exporter": "python",
   "pygments_lexer": "ipython3",
   "version": "3.9.7"
  }
 },
 "nbformat": 4,
 "nbformat_minor": 5
}

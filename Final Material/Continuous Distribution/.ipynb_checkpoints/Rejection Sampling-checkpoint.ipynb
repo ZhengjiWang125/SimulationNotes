{
 "cells": [
  {
   "cell_type": "code",
   "execution_count": 16,
   "id": "13105ae1",
   "metadata": {},
   "outputs": [],
   "source": [
    "import numpy as np\n",
    "import matplotlib.pyplot as plt\n",
    "import scipy.stats as spst\n",
    "import scipy.special as spsp"
   ]
  },
  {
   "cell_type": "markdown",
   "id": "66e46ff1",
   "metadata": {},
   "source": [
    "# Rejection Sampling"
   ]
  },
  {
   "cell_type": "code",
   "execution_count": 3,
   "id": "9e265059",
   "metadata": {},
   "outputs": [
    {
     "data": {
      "text/plain": [
       "'\\nAlgorithm\\n1. sample Y from proposal distribution\\nagain c = max(p(x)/q(x))\\n2. U = uniform(0,1)\\n3. if U <= p(x)/c/q(x), return Y else go to step 1\\n'"
      ]
     },
     "execution_count": 3,
     "metadata": {},
     "output_type": "execute_result"
    }
   ],
   "source": [
    "'''\n",
    "Algorithm\n",
    "1. sample Y from proposal distribution\n",
    "again c = max(p(x)/q(x))\n",
    "2. U = uniform(0,1)\n",
    "3. if U <= p(x)/c/q(x), return Y else go to step 1\n",
    "'''"
   ]
  },
  {
   "cell_type": "markdown",
   "id": "46429d31",
   "metadata": {},
   "source": [
    "example"
   ]
  },
  {
   "cell_type": "code",
   "execution_count": 10,
   "id": "f95d96c8",
   "metadata": {},
   "outputs": [],
   "source": [
    "c = 4\n",
    "def sample():\n",
    "    U = np.random.rand()\n",
    "    Y = np.random.rand()\n",
    "    while U >= 4*Y**3/1/4:\n",
    "        U = np.random.rand()\n",
    "        Y = np.random.rand()\n",
    "    return Y"
   ]
  },
  {
   "cell_type": "code",
   "execution_count": 11,
   "id": "2aad6981",
   "metadata": {},
   "outputs": [
    {
     "data": {
      "text/plain": [
       "(array([6.43420768e-03, 3.21710384e-03, 9.65131152e-03, 1.60855192e-02,\n",
       "        3.86052461e-02, 6.11249729e-02, 9.32960113e-02, 1.15815738e-01,\n",
       "        1.51203880e-01, 1.60855192e-01, 2.25197269e-01, 3.34578799e-01,\n",
       "        3.92486668e-01, 5.11519510e-01, 5.43690549e-01, 6.62723391e-01,\n",
       "        7.68887818e-01, 9.74782463e-01, 1.10346662e+00, 1.11633503e+00,\n",
       "        1.37370334e+00, 1.59568350e+00, 1.89809127e+00, 1.97530176e+00,\n",
       "        2.29701214e+00, 2.54472914e+00, 2.79566324e+00, 3.02729471e+00,\n",
       "        3.32970247e+00, 4.04389953e+00]),\n",
       " array([0.06747518, 0.09855904, 0.1296429 , 0.16072675, 0.19181061,\n",
       "        0.22289447, 0.25397833, 0.28506219, 0.31614605, 0.3472299 ,\n",
       "        0.37831376, 0.40939762, 0.44048148, 0.47156534, 0.5026492 ,\n",
       "        0.53373305, 0.56481691, 0.59590077, 0.62698463, 0.65806849,\n",
       "        0.68915235, 0.7202362 , 0.75132006, 0.78240392, 0.81348778,\n",
       "        0.84457164, 0.8756555 , 0.90673935, 0.93782321, 0.96890707,\n",
       "        0.99999093]),\n",
       " <BarContainer object of 30 artists>)"
      ]
     },
     "execution_count": 11,
     "metadata": {},
     "output_type": "execute_result"
    },
    {
     "data": {
      "image/png": "[encoded data removed]",
      "text/plain": [
       "<Figure size 432x288 with 1 Axes>"
      ]
     },
     "metadata": {
      "needs_background": "light"
     },
     "output_type": "display_data"
    }
   ],
   "source": [
    "samples = [sample() for i in range(10000)]\n",
    "plt.hist(samples,density = True,bins = 30)"
   ]
  },
  {
   "cell_type": "markdown",
   "id": "546a724a",
   "metadata": {},
   "source": [
    "another example"
   ]
  },
  {
   "cell_type": "code",
   "execution_count": 19,
   "id": "a8f414b9",
   "metadata": {},
   "outputs": [
    {
     "data": {
      "text/plain": [
       "0.3524872435126549"
      ]
     },
     "execution_count": 19,
     "metadata": {},
     "output_type": "execute_result"
    }
   ],
   "source": [
    "#f(x) = 20 * x * (1-x)**3\n",
    "#you would have to calculate derivative of f(x) to find the maximum point\n",
    "c = 20 * 0.25 * (1-0.25) ** 3\n",
    "def sample():\n",
    "    U = spst.uniform.rvs()\n",
    "    Y = spst.uniform.rvs()\n",
    "    if U >= 20*Y*(1-Y)**3/1/c:\n",
    "        U = spst.uniform.rvs()\n",
    "        Y = spst.uniform.rvs()\n",
    "    return Y\n"
   ]
  },
  {
   "cell_type": "code",
   "execution_count": 20,
   "id": "78954a93",
   "metadata": {},
   "outputs": [
    {
     "data": {
      "text/plain": [
       "(array([0.66647463, 0.94567347, 1.24588727, 1.23087658, 1.46804548,\n",
       "        1.45303479, 1.40800272, 1.55510748, 1.54309893, 1.49506472,\n",
       "        1.36297065, 1.30893217, 1.32094072, 1.26690223, 1.1378103 ,\n",
       "        1.12880389, 1.05675257, 0.92766064, 0.84660291, 0.74453022,\n",
       "        0.68448746, 0.6874896 , 0.60342974, 0.6244447 , 0.57340836,\n",
       "        0.61543829, 0.5133656 , 0.54038484, 0.55839767, 0.50736132]),\n",
       " array([4.75116850e-04, 3.37847116e-02, 6.70943064e-02, 1.00403901e-01,\n",
       "        1.33713496e-01, 1.67023091e-01, 2.00332685e-01, 2.33642280e-01,\n",
       "        2.66951875e-01, 3.00261470e-01, 3.33571064e-01, 3.66880659e-01,\n",
       "        4.00190254e-01, 4.33499849e-01, 4.66809443e-01, 5.00119038e-01,\n",
       "        5.33428633e-01, 5.66738228e-01, 6.00047822e-01, 6.33357417e-01,\n",
       "        6.66667012e-01, 6.99976607e-01, 7.33286201e-01, 7.66595796e-01,\n",
       "        7.99905391e-01, 8.33214986e-01, 8.66524580e-01, 8.99834175e-01,\n",
       "        9.33143770e-01, 9.66453365e-01, 9.99762959e-01]),\n",
       " <BarContainer object of 30 artists>)"
      ]
     },
     "execution_count": 20,
     "metadata": {},
     "output_type": "execute_result"
    },
    {
     "data": {
      "image/png": "[encoded data removed]",
      "text/plain": [
       "<Figure size 432x288 with 1 Axes>"
      ]
     },
     "metadata": {
      "needs_background": "light"
     },
     "output_type": "display_data"
    }
   ],
   "source": [
    "samples = [sample() for i in range(10000)]\n",
    "plt.hist(samples,density = True, bins = 30)"
   ]
  },
  {
   "cell_type": "code",
   "execution_count": null,
   "id": "ca458444",
   "metadata": {},
   "outputs": [],
   "source": []
  }
 ],
 "metadata": {
  "kernelspec": {
   "display_name": "Python 3 (ipykernel)",
   "language": "python",
   "name": "python3"
  },
  "language_info": {
   "codemirror_mode": {
    "name": "ipython",
    "version": 3
   },
   "file_extension": ".py",
   "mimetype": "text/x-python",
   "name": "python",
   "nbconvert_exporter": "python",
   "pygments_lexer": "ipython3",
   "version": "3.9.7"
  }
 },
 "nbformat": 4,
 "nbformat_minor": 5
}

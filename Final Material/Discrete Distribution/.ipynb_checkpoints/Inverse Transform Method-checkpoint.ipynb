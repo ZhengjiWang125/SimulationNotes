{
 "cells": [
  {
   "cell_type": "markdown",
   "id": "3ef0bd5c",
   "metadata": {},
   "source": [
    "# Inverse Transform Method"
   ]
  },
  {
   "cell_type": "code",
   "execution_count": 1,
   "id": "9fc8215e",
   "metadata": {},
   "outputs": [],
   "source": [
    "import numpy as np\n",
    "from scipy.stats import uniform\n",
    "import matplotlib.pyplot as plt"
   ]
  },
  {
   "cell_type": "code",
   "execution_count": 2,
   "id": "2c8a94ec",
   "metadata": {},
   "outputs": [
    {
     "data": {
      "text/plain": [
       "'\\n1. Find the cdf F(x) = P(X<=x)\\n2. We can find the F-1（u)= inf{x: F(x) >= u}\\n'"
      ]
     },
     "execution_count": 2,
     "metadata": {},
     "output_type": "execute_result"
    }
   ],
   "source": [
    "'''\n",
    "1. Find the cdf F(x) = P(X<=x)\n",
    "2. We can find the F-1（u)= inf{x: F(x) >= u}\n",
    "'''"
   ]
  },
  {
   "cell_type": "markdown",
   "id": "29f0c607",
   "metadata": {},
   "source": [
    "Discrete Uniform"
   ]
  },
  {
   "cell_type": "code",
   "execution_count": 3,
   "id": "f1131ac7",
   "metadata": {},
   "outputs": [],
   "source": [
    "# We know that F(x) = int(x)/n for uniform distribution for [1,2,3 .... n]\n",
    "#y = int(x)/n     x = int(y)/n    u=int(x)/n   x = int(nu) + 1"
   ]
  },
  {
   "cell_type": "code",
   "execution_count": 4,
   "id": "348b84b6",
   "metadata": {},
   "outputs": [
    {
     "data": {
      "text/plain": [
       "1"
      ]
     },
     "execution_count": 4,
     "metadata": {},
     "output_type": "execute_result"
    }
   ],
   "source": [
    "int(5*np.random.rand()) + 1    #[1,2,3,4,5]"
   ]
  },
  {
   "cell_type": "markdown",
   "id": "4f32d0c4",
   "metadata": {},
   "source": [
    "Example"
   ]
  },
  {
   "cell_type": "code",
   "execution_count": 5,
   "id": "89eb73fc",
   "metadata": {},
   "outputs": [
    {
     "data": {
      "text/plain": [
       "'\\np(x) = 0.1 when x = 1\\n       0.2 when x = 2\\n       0.1 when x = 3\\n       0.2 when x = 4\\n       0.4 when x = 5\\n'"
      ]
     },
     "execution_count": 5,
     "metadata": {},
     "output_type": "execute_result"
    }
   ],
   "source": [
    "'''\n",
    "p(x) = 0.1 when x = 1\n",
    "       0.2 when x = 2\n",
    "       0.1 when x = 3\n",
    "       0.2 when x = 4\n",
    "       0.4 when x = 5\n",
    "'''"
   ]
  },
  {
   "cell_type": "code",
   "execution_count": 6,
   "id": "92031407",
   "metadata": {},
   "outputs": [],
   "source": [
    "x = np.array(range(1,6))\n",
    "pdf = [0.1,0.2,0.1,0.2,0.4]\n",
    "\n",
    "def simulate():\n",
    "    U = uniform.rvs()\n",
    "    if U <= 0.1:\n",
    "        return 1\n",
    "    elif U <= 0.3:\n",
    "        return 2\n",
    "    elif U <= 0.4:\n",
    "        return 3\n",
    "    elif U <= 0.6:\n",
    "        return 4\n",
    "    else:\n",
    "        return 5\n",
    "        "
   ]
  },
  {
   "cell_type": "code",
   "execution_count": 7,
   "id": "b804c492",
   "metadata": {},
   "outputs": [],
   "source": [
    "samples = [simulate() for i in range(10000)]"
   ]
  },
  {
   "cell_type": "code",
   "execution_count": 8,
   "id": "2592bc7f",
   "metadata": {},
   "outputs": [
    {
     "data": {
      "text/plain": [
       "<matplotlib.collections.PathCollection at 0x1e97b50cd90>"
      ]
     },
     "execution_count": 8,
     "metadata": {},
     "output_type": "execute_result"
    },
    {
     "data": {
      "image/png": "[encoded data removed]",
      "text/plain": [
       "<Figure size 432x288 with 1 Axes>"
      ]
     },
     "metadata": {
      "needs_background": "light"
     },
     "output_type": "display_data"
    }
   ],
   "source": [
    "values,counts = np.unique(samples,return_counts = True)\n",
    "plt.bar(values,counts/10000,zorder = 0)\n",
    "plt.scatter(x,pdf)"
   ]
  }
 ],
 "metadata": {
  "kernelspec": {
   "display_name": "Python 3 (ipykernel)",
   "language": "python",
   "name": "python3"
  },
  "language_info": {
   "codemirror_mode": {
    "name": "ipython",
    "version": 3
   },
   "file_extension": ".py",
   "mimetype": "text/x-python",
   "name": "python",
   "nbconvert_exporter": "python",
   "pygments_lexer": "ipython3",
   "version": "3.9.7"
  }
 },
 "nbformat": 4,
 "nbformat_minor": 5
}

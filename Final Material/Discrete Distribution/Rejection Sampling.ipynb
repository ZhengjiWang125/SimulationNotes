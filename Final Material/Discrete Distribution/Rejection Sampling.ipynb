{
 "cells": [
  {
   "cell_type": "markdown",
   "id": "ecaddd30",
   "metadata": {},
   "source": [
    "# Rejection Sampling"
   ]
  },
  {
   "cell_type": "code",
   "execution_count": 1,
   "id": "0eda665c",
   "metadata": {},
   "outputs": [],
   "source": [
    "import numpy as np\n",
    "import matplotlib.pyplot as plt\n",
    "from scipy.stats import uniform"
   ]
  },
  {
   "cell_type": "code",
   "execution_count": 2,
   "id": "bbf0ab54",
   "metadata": {},
   "outputs": [
    {
     "data": {
      "text/plain": [
       "'\\nWe want to sample from p(x): target distribution\\nBut it is really hard to sample.\\nSo we use q(x): proposal distribution that has the following properties:\\n1. p(x)=0 whenever q(x)=0\\n2. There is some constant c>1 such that: p(x)/q(x) <= c\\n'"
      ]
     },
     "execution_count": 2,
     "metadata": {},
     "output_type": "execute_result"
    }
   ],
   "source": [
    "'''\n",
    "We want to sample from p(x): target distribution\n",
    "But it is really hard to sample.\n",
    "So we use q(x): proposal distribution that has the following properties:\n",
    "1. p(x)=0 whenever q(x)=0\n",
    "2. There is some constant c>1 such that: p(x)/q(x) <= c\n",
    "'''"
   ]
  },
  {
   "cell_type": "code",
   "execution_count": 3,
   "id": "bd81c570",
   "metadata": {},
   "outputs": [
    {
     "data": {
      "text/plain": [
       "'\\nAlgo:\\nStep 1: Generate U, sample Y from q(x)\\nStep 2: if U <= p(Y)/cq(Y) return X=Y, else return to step 1\\n'"
      ]
     },
     "execution_count": 3,
     "metadata": {},
     "output_type": "execute_result"
    }
   ],
   "source": [
    "'''\n",
    "Algo:\n",
    "Step 1: Generate U, sample Y from q(x)\n",
    "Step 2: if U <= p(Y)/cq(Y) return X=Y, else return to step 1\n",
    "'''"
   ]
  },
  {
   "cell_type": "markdown",
   "id": "2ea94388",
   "metadata": {},
   "source": [
    "Example"
   ]
  },
  {
   "cell_type": "code",
   "execution_count": 4,
   "id": "7b315f32",
   "metadata": {},
   "outputs": [
    {
     "data": {
      "text/plain": [
       "'\\np(x)\\n0.1  x = 1\\n0.6 x = 2\\n0.1 x = 3\\n0.2  x = 4\\n'"
      ]
     },
     "execution_count": 4,
     "metadata": {},
     "output_type": "execute_result"
    }
   ],
   "source": [
    "'''\n",
    "p(x)\n",
    "0.1  x = 1\n",
    "0.6 x = 2\n",
    "0.1 x = 3\n",
    "0.2  x = 4\n",
    "'''"
   ]
  },
  {
   "cell_type": "markdown",
   "id": "eab06690",
   "metadata": {},
   "source": [
    "We can use q(x) = [1,4] to simulate"
   ]
  },
  {
   "cell_type": "code",
   "execution_count": 5,
   "id": "3e541f28",
   "metadata": {},
   "outputs": [],
   "source": [
    "outcomes = np.array(range(1,5))\n",
    "\n",
    "dist_target = np.array([0.1,0.6,0.1,0.2])\n",
    "\n",
    "dist_proposal = np.repeat(0.25,4)\n",
    "\n",
    "c = np.max(dist_target/ dist_proposal)\n",
    "\n",
    "\n",
    "\n",
    "def simulate():\n",
    "    U = uniform.rvs()\n",
    "    Y = int(4*uniform.rvs()) + 1\n",
    "    while U > dist_target[Y-1]/dist_proposal[Y-1]/c:\n",
    "        U = uniform.rvs()\n",
    "        Y = int(4*uniform.rvs()) + 1\n",
    "    return Y"
   ]
  },
  {
   "cell_type": "code",
   "execution_count": 6,
   "id": "4ecdd723",
   "metadata": {},
   "outputs": [],
   "source": [
    "samples = [simulate() for i in range(10000)]"
   ]
  },
  {
   "cell_type": "code",
   "execution_count": 7,
   "id": "55adc88d",
   "metadata": {},
   "outputs": [
    {
     "data": {
      "text/plain": [
       "<BarContainer object of 4 artists>"
      ]
     },
     "execution_count": 7,
     "metadata": {},
     "output_type": "execute_result"
    },
    {
     "data": {
      "image/png": "[encoded data removed]",
      "text/plain": [
       "<Figure size 432x288 with 1 Axes>"
      ]
     },
     "metadata": {
      "needs_background": "light"
     },
     "output_type": "display_data"
    }
   ],
   "source": [
    "values,counts = np.unique(samples,return_counts = True)\n",
    "plt.bar(values,counts/10000,zorder = 0)"
   ]
  },
  {
   "cell_type": "code",
   "execution_count": 8,
   "id": "529ff0cc",
   "metadata": {},
   "outputs": [
    {
     "data": {
      "text/plain": [
       "'\\n0    0.4\\n1    0.25\\n2    0.15\\n3    0.1\\n4    0.05\\n5    0.05\\n'"
      ]
     },
     "execution_count": 8,
     "metadata": {},
     "output_type": "execute_result"
    }
   ],
   "source": [
    "'''\n",
    "0    0.4\n",
    "1    0.25\n",
    "2    0.15\n",
    "3    0.1\n",
    "4    0.05\n",
    "5    0.05\n",
    "'''"
   ]
  },
  {
   "cell_type": "code",
   "execution_count": 9,
   "id": "748f45e9",
   "metadata": {},
   "outputs": [],
   "source": [
    "x = np.arange(6)\n",
    "dist_target = np.array([0.4,0.25,0.15,0.1,0.05,0.05])\n",
    "def c_value(p):\n",
    "    dist_proposal = (1-p) **x* p\n",
    "    return np.max(dist_target/dist_proposal)\n",
    "p_array = np.linspace(0.001,0.009,10000)\n",
    "c_array = [c_value(p) for p in p_array]\n",
    "c_array = np.array(c_array)\n",
    "\n",
    "p = p_array[np.argmin(c_array)]\n",
    "c = np.min(c_array)"
   ]
  },
  {
   "cell_type": "code",
   "execution_count": 25,
   "id": "1438f452",
   "metadata": {},
   "outputs": [],
   "source": [
    "def proposal_0_5():\n",
    "    u = np.random.rand()\n",
    "    prop = int(np.log(u)/np.log(1-p))\n",
    "    while prop>5:\n",
    "        u = np.random.rand()\n",
    "        prop = int(np.log(u)/np.log(1-p))\n",
    "    return prop\n",
    "def sampling():\n",
    "    prop = proposal_0_5()\n",
    "    while np.random.rand() >= dist_target[prop]/((1-p)**prop*p)/c:\n",
    "        prop = proposal_0_5()\n",
    "    return prop"
   ]
  },
  {
   "cell_type": "code",
   "execution_count": 26,
   "id": "cea7d100",
   "metadata": {},
   "outputs": [
    {
     "data": {
      "text/plain": [
       "1"
      ]
     },
     "execution_count": 26,
     "metadata": {},
     "output_type": "execute_result"
    }
   ],
   "source": [
    "sampling()"
   ]
  },
  {
   "cell_type": "code",
   "execution_count": 27,
   "id": "24b34ff9",
   "metadata": {},
   "outputs": [
    {
     "data": {
      "image/png": "[encoded data removed]",
      "text/plain": [
       "<Figure size 432x288 with 1 Axes>"
      ]
     },
     "metadata": {
      "needs_background": "light"
     },
     "output_type": "display_data"
    }
   ],
   "source": [
    "samples = [sampling() for i in range(10000)]\n",
    "values,counts = np.unique(samples,return_counts = True)\n",
    "plt.scatter(values,counts/np.sum(counts),zorder = 2, label = \"sample dist\")\n",
    "plt.bar(np.arange(6),dist_target,label = \"theoretical dist\")\n",
    "plt.xlabel(\"outcomes\")\n",
    "plt.ylabel(\"probailities\")\n",
    "plt.legend()\n",
    "plt.show()"
   ]
  }
 ],
 "metadata": {
  "kernelspec": {
   "display_name": "Python 3 (ipykernel)",
   "language": "python",
   "name": "python3"
  },
  "language_info": {
   "codemirror_mode": {
    "name": "ipython",
    "version": 3
   },
   "file_extension": ".py",
   "mimetype": "text/x-python",
   "name": "python",
   "nbconvert_exporter": "python",
   "pygments_lexer": "ipython3",
   "version": "3.9.7"
  }
 },
 "nbformat": 4,
 "nbformat_minor": 5
}

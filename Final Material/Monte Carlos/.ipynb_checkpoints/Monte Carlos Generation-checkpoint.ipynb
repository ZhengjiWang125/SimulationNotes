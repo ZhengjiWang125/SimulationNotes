{
 "cells": [
  {
   "cell_type": "markdown",
   "id": "9fcae960",
   "metadata": {},
   "source": [
    "# Monte Carlos Simulation"
   ]
  },
  {
   "cell_type": "code",
   "execution_count": 4,
   "id": "b583f55c",
   "metadata": {},
   "outputs": [],
   "source": [
    "import numpy as np"
   ]
  },
  {
   "cell_type": "markdown",
   "id": "5dc7e25c",
   "metadata": {},
   "source": [
    "### 1-D Monte Carlos for f(x)'s integral from 0 to 1"
   ]
  },
  {
   "cell_type": "code",
   "execution_count": 5,
   "id": "d99e9a3f",
   "metadata": {},
   "outputs": [
    {
     "data": {
      "text/plain": [
       "'\\n1. Generate many x from Unifrom(0,1)\\n2. Calculate g(x) for each x\\n3. Calculate the sample mean of g(x)\\n'"
      ]
     },
     "execution_count": 5,
     "metadata": {},
     "output_type": "execute_result"
    }
   ],
   "source": [
    "'''\n",
    "1. Generate many x from Unifrom(0,1)\n",
    "2. Calculate g(x) for each x\n",
    "3. Calculate the sample mean of g(x)\n",
    "'''"
   ]
  },
  {
   "cell_type": "code",
   "execution_count": 6,
   "id": "63fc36a7",
   "metadata": {},
   "outputs": [
    {
     "data": {
      "text/plain": [
       "0.7722611678685921"
      ]
     },
     "execution_count": 6,
     "metadata": {},
     "output_type": "execute_result"
    }
   ],
   "source": [
    "#f(x) = exp(-x^2)\n",
    "x = np.random.rand(1000)\n",
    "gx = np.exp(-x**2)\n",
    "np.mean(gx)"
   ]
  },
  {
   "cell_type": "markdown",
   "id": "ce014d39",
   "metadata": {},
   "source": [
    "### 1-D Monte Carlos for f(x)'s integral from a to b"
   ]
  },
  {
   "cell_type": "code",
   "execution_count": 7,
   "id": "5260e1bb",
   "metadata": {},
   "outputs": [
    {
     "data": {
      "text/plain": [
       "\"\\n1. Generate many x from Uniform(0,1)\\n2. Build h(x)    you want h(0) = a , h(1) = b, and you want to calculate h'(x)\\n3. h(x) = a + (b-a)x and  h'(x) = b-a\\n4. calculate f(h(x)) * h'(x)\\n5. Calculate the sample mean\\n\""
      ]
     },
     "execution_count": 7,
     "metadata": {},
     "output_type": "execute_result"
    }
   ],
   "source": [
    "'''\n",
    "1. Generate many x from Uniform(0,1)\n",
    "2. Build h(x)    you want h(0) = a , h(1) = b, and you want to calculate h'(x)\n",
    "3. h(x) = a + (b-a)x and  h'(x) = b-a\n",
    "4. calculate f(h(x)) * h'(x)\n",
    "5. Calculate the sample mean\n",
    "'''"
   ]
  },
  {
   "cell_type": "code",
   "execution_count": 8,
   "id": "48152be9",
   "metadata": {},
   "outputs": [
    {
     "data": {
      "text/plain": [
       "-0.17131496829025838"
      ]
     },
     "execution_count": 8,
     "metadata": {},
     "output_type": "execute_result"
    }
   ],
   "source": [
    "x = np.random.rand(1000)\n",
    "hx = 1 + x\n",
    "gx = np.exp(-hx)/-hx * (1)\n",
    "np.mean(gx)"
   ]
  },
  {
   "cell_type": "markdown",
   "id": "f938a160",
   "metadata": {},
   "source": [
    "### 1-D Monte Carlos for f(x)'s integral from -infinity to b"
   ]
  },
  {
   "cell_type": "code",
   "execution_count": 9,
   "id": "8077daed",
   "metadata": {},
   "outputs": [
    {
     "data": {
      "text/plain": [
       "\"\\n1. Generate many x from Uniform(0,1)\\n2. Build h(x)    you want h(0) = -infinity , h(1) = b, and you want to calculate h'(x)\\n3. h(x) = 1 - 1/x + b and  h'(x) = 1/x**2\\n4. calculate f(h(x)) * h'(x)\\n5. Calculate the sample mean\\n\""
      ]
     },
     "execution_count": 9,
     "metadata": {},
     "output_type": "execute_result"
    }
   ],
   "source": [
    "'''\n",
    "1. Generate many x from Uniform(0,1)\n",
    "2. Build h(x)    you want h(0) = -infinity , h(1) = b, and you want to calculate h'(x)\n",
    "3. h(x) = 1 - 1/x + b and  h'(x) = 1/x**2\n",
    "4. calculate f(h(x)) * h'(x)\n",
    "5. Calculate the sample mean\n",
    "'''"
   ]
  },
  {
   "cell_type": "code",
   "execution_count": 10,
   "id": "ef52f8f9",
   "metadata": {},
   "outputs": [
    {
     "data": {
      "text/plain": [
       "0.02317347981822233"
      ]
     },
     "execution_count": 10,
     "metadata": {},
     "output_type": "execute_result"
    }
   ],
   "source": [
    "x = np.random.rand(1000)\n",
    "hx = 1 - 1/x -2\n",
    "gx = 1/np.sqrt(2 * np.pi) * np.exp(-hx**2/2) / x **2\n",
    "np.mean(gx)"
   ]
  },
  {
   "cell_type": "markdown",
   "id": "2f152a7d",
   "metadata": {},
   "source": [
    "### 1-D Monte Carlos for f(x)'s integral from a to infinity"
   ]
  },
  {
   "cell_type": "code",
   "execution_count": 11,
   "id": "15424dd2",
   "metadata": {},
   "outputs": [
    {
     "data": {
      "text/plain": [
       "\"\\n1. Generate many x from Uniform(0,1)\\n2. Build h(x)    you want h(0) = a, h(1) = infinity, and you want to calculate h'(x)\\n3. h(x) = 1 /(1-x) -1 + a    h'(x) = 1/(1-x)**2\\n4. calculate f(h(x)) * h'(x)\\n5. Calculate the sample mean\\n\""
      ]
     },
     "execution_count": 11,
     "metadata": {},
     "output_type": "execute_result"
    }
   ],
   "source": [
    "'''\n",
    "1. Generate many x from Uniform(0,1)\n",
    "2. Build h(x)    you want h(0) = a, h(1) = infinity, and you want to calculate h'(x)\n",
    "3. h(x) = 1 /(1-x) -1 + a    h'(x) = 1/(1-x)**2\n",
    "4. calculate f(h(x)) * h'(x)\n",
    "5. Calculate the sample mean\n",
    "'''"
   ]
  },
  {
   "cell_type": "code",
   "execution_count": 12,
   "id": "5291f600",
   "metadata": {},
   "outputs": [
    {
     "data": {
      "text/plain": [
       "0.36880896083827475"
      ]
     },
     "execution_count": 12,
     "metadata": {},
     "output_type": "execute_result"
    }
   ],
   "source": [
    "x = np.random.rand(1000)\n",
    "hx = 1/(1-x)\n",
    "gx = np.exp(-hx) * 1/(1-x)**2\n",
    "np.mean(gx)"
   ]
  },
  {
   "cell_type": "markdown",
   "id": "7a06a02f",
   "metadata": {},
   "source": [
    "# CI for Monte Carlos"
   ]
  },
  {
   "cell_type": "code",
   "execution_count": 13,
   "id": "f4f842e7",
   "metadata": {},
   "outputs": [
    {
     "data": {
      "text/plain": [
       "'\\nStep 1: after you done with monte carlos simulation, calculate S=np.std(gx,ddof=1)\\n\\nStep 2: according to alpha (1-confidence level), z = spst.norm.ppf(1-alpha/2), t = spst.t.ppf(1-alpha/2,N - 1)\\n\\nStep 3：\\nupperbound = result + S*t/N**0.5\\nlowerbound = result - S*t/N**0.5\\n\\nStep 4(Optional): Draw the sample distribution using \\nplt.hist(gx,density = True,bins = 30)\\n\\n'"
      ]
     },
     "execution_count": 13,
     "metadata": {},
     "output_type": "execute_result"
    }
   ],
   "source": [
    "'''\n",
    "Step 1: after you done with monte carlos simulation, calculate S=np.std(gx,ddof=1)\n",
    "\n",
    "Step 2: according to alpha (1-confidence level), z = spst.norm.ppf(1-alpha/2), t = spst.t.ppf(1-alpha/2,N - 1)\n",
    "\n",
    "Step 3：\n",
    "upperbound = result + S*t/N**0.5\n",
    "lowerbound = result - S*t/N**0.5\n",
    "\n",
    "Step 4(Optional): Draw the sample distribution using \n",
    "plt.hist(gx,density = True,bins = 30)\n",
    "\n",
    "'''\n"
   ]
  },
  {
   "cell_type": "code",
   "execution_count": 14,
   "id": "fbe2b542",
   "metadata": {},
   "outputs": [
    {
     "name": "stdout",
     "output_type": "stream",
     "text": [
      "39.965981550704456 41.09713092732733 42.2282803039502\n"
     ]
    },
    {
     "data": {
      "image/png": "[encoded data removed]",
      "text/plain": [
       "<Figure size 432x288 with 1 Axes>"
      ]
     },
     "metadata": {
      "needs_background": "light"
     },
     "output_type": "display_data"
    }
   ],
   "source": [
    "import matplotlib.pyplot as plt\n",
    "import scipy.stats as spst\n",
    "N = 1000\n",
    "x = np.random.rand(N)\n",
    "hx = 2 + 3 * x\n",
    "gx = (hx**2 + 1) * 3\n",
    "result = np.mean(gx)\n",
    "alpha = 0.05\n",
    "S = np.std(gx,ddof = 1)\n",
    "z = spst.norm.ppf(1-alpha/2)\n",
    "t = spst.t.ppf(1-alpha/2, N-1)\n",
    "upperbound = result + S * z/ N**0.5\n",
    "lowerbound = result - S * z/ N**0.5\n",
    "plt.hist(gx,density = True, bins = 30)\n",
    "print(lowerbound, result,upperbound)"
   ]
  },
  {
   "cell_type": "markdown",
   "id": "6a6f39c5",
   "metadata": {},
   "source": [
    "# High Dimensional MonteCarlos"
   ]
  },
  {
   "cell_type": "code",
   "execution_count": 15,
   "id": "2178fb8b",
   "metadata": {},
   "outputs": [
    {
     "data": {
      "text/plain": [
       "\"\\nStep1: found the A or larger domian that includes the original domain\\n\\nStep2: generate x, y\\n\\nStep3: construct u(x), v(y), u(0) = a, u(1) = b, v(0) = a , v(1) = b, f(u(x),v(y))*u'(x)*v'(y)  \\n\\nStep2: treat it like a normal monte carlos simulation, generate gxy\\n\\nStep3: makes gx = 0 when it is against the original rule, like u(x) > v (y)\\n\\nStpe4: you are done!\\n\\n\""
      ]
     },
     "execution_count": 15,
     "metadata": {},
     "output_type": "execute_result"
    }
   ],
   "source": [
    "'''\n",
    "Step1: found the A or larger domian that includes the original domain\n",
    "\n",
    "Step2: generate x, y\n",
    "\n",
    "Step3: construct u(x), v(y), u(0) = a, u(1) = b, v(0) = a , v(1) = b, f(u(x),v(y))*u'(x)*v'(y)  \n",
    "\n",
    "Step2: treat it like a normal monte carlos simulation, generate gxy\n",
    "\n",
    "Step3: makes gx = 0 when it is against the original rule, like u(x) > v (y)\n",
    "\n",
    "Stpe4: you are done!\n",
    "\n",
    "'''"
   ]
  },
  {
   "cell_type": "code",
   "execution_count": 16,
   "id": "a6dc328c",
   "metadata": {},
   "outputs": [
    {
     "name": "stdout",
     "output_type": "stream",
     "text": [
      "0.4517111145480687 0.4966868130237547 0.5416625114994408\n"
     ]
    }
   ],
   "source": [
    "x = np.random.rand(10000)\n",
    "y = np.random.rand(10000)\n",
    "n = 10000\n",
    "ux = 1/(1-x) - 1\n",
    "vy = 1/(1-y) - 1\n",
    "gxy = np.exp(-(ux + vy)) * 1/(1-x)**2 * 1/ (1-y)**2\n",
    "gxy[vy > ux] = 0\n",
    "result = np.mean(gxy)\n",
    "S = np.std(gxy,ddof = 1)\n",
    "alpha = 0.05\n",
    "T = spst.t.ppf(1-alpha/2, N-1)\n",
    "lower = result - T * S/ (N**0.5)\n",
    "upper = result + T * S/ (N**0.5)\n",
    "print(lower, result, upper)"
   ]
  },
  {
   "cell_type": "code",
   "execution_count": 17,
   "id": "2c10173c",
   "metadata": {},
   "outputs": [
    {
     "data": {
      "text/plain": [
       "0.2885933132341636"
      ]
     },
     "execution_count": 17,
     "metadata": {},
     "output_type": "execute_result"
    }
   ],
   "source": [
    "x = np.random.rand(100000)\n",
    "y = np.random.rand(100000)\n",
    "ux = 2 * x \n",
    "vy = 6 * y\n",
    "gxy = np.exp(-(ux + vy)) * 12\n",
    "gxy[(vy > 2*ux + 2)|(vy < 2*ux)] = 0\n",
    "np.mean(gxy)"
   ]
  },
  {
   "cell_type": "markdown",
   "id": "463f3ec7",
   "metadata": {},
   "source": [
    "# MonteCarlos with antithetic"
   ]
  },
  {
   "cell_type": "code",
   "execution_count": 19,
   "id": "b730e183",
   "metadata": {},
   "outputs": [
    {
     "data": {
      "text/plain": [
       "0.28872035482015557"
      ]
     },
     "execution_count": 19,
     "metadata": {},
     "output_type": "execute_result"
    }
   ],
   "source": [
    "x = np.random.rand(100000)\n",
    "y = np.random.rand(100000)\n",
    "ux1 = 2 * x \n",
    "vy1 = 6 * y\n",
    "ux2 = 2 * (1-x)\n",
    "vy2 = 6 * (1-y)\n",
    "gxy1 = np.exp(-(ux1 + vy1)) * 12\n",
    "gxy2 = np.exp(-(ux2 + vy2)) * 12\n",
    "gxy1[(vy1 > 2*ux1 + 2)|(vy1 < 2*ux1)] = 0\n",
    "gxy2[(vy2 > 2*ux2 + 2)|(vy2 < 2*ux2)] = 0\n",
    "gxy = (gxy1 + gxy2) / 2\n",
    "np.mean(gxy)"
   ]
  },
  {
   "cell_type": "markdown",
   "id": "a6fedbfa",
   "metadata": {},
   "source": [
    "# MonteCarlos with control variate"
   ]
  },
  {
   "cell_type": "code",
   "execution_count": null,
   "id": "74c939c5",
   "metadata": {},
   "outputs": [],
   "source": [
    "x = np.random.rand(100000)\n",
    "y = np.random.rand(100000)\n",
    "ux = 2 * x \n",
    "vy = 6 * y\n",
    "gxy = np.exp(-(ux + vy)) * 12\n",
    "fxy = gxy.copy()\n",
    "gxy[(vy > 2*ux + 2)|(vy < 2*ux)] = 0\n",
    "c = -np.cov(gxy,fxy,ddof = 1)[0,1]/np.var(gxy,ddof=1)\n",
    "np.mean(gxy + c* (fxy - #the mean))"
   ]
  }
 ],
 "metadata": {
  "kernelspec": {
   "display_name": "Python 3 (ipykernel)",
   "language": "python",
   "name": "python3"
  },
  "language_info": {
   "codemirror_mode": {
    "name": "ipython",
    "version": 3
   },
   "file_extension": ".py",
   "mimetype": "text/x-python",
   "name": "python",
   "nbconvert_exporter": "python",
   "pygments_lexer": "ipython3",
   "version": "3.9.7"
  }
 },
 "nbformat": 4,
 "nbformat_minor": 5
}

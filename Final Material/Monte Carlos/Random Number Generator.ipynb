{
 "cells": [
  {
   "cell_type": "code",
   "execution_count": 1,
   "id": "8f6458a5",
   "metadata": {},
   "outputs": [],
   "source": [
    "import numpy as np\n",
    "import pandas as pd\n",
    "import matplotlib as plt\n",
    "import scipy.stats as spst\n",
    "import scipy.special as spsp"
   ]
  },
  {
   "cell_type": "markdown",
   "id": "75a4c581",
   "metadata": {},
   "source": [
    "### Direct Stream"
   ]
  },
  {
   "cell_type": "code",
   "execution_count": 2,
   "id": "b8671588",
   "metadata": {},
   "outputs": [
    {
     "data": {
      "text/plain": [
       "0.8546071946533647"
      ]
     },
     "execution_count": 2,
     "metadata": {},
     "output_type": "execute_result"
    }
   ],
   "source": [
    "np.random.rand()"
   ]
  },
  {
   "cell_type": "code",
   "execution_count": 3,
   "id": "0ef252cc",
   "metadata": {},
   "outputs": [
    {
     "data": {
      "text/plain": [
       "array([0.58361624, 0.38070175, 0.38972409, 0.51394097, 0.81677087,\n",
       "       0.0801183 , 0.79038061, 0.24298688, 0.70034475, 0.31036848])"
      ]
     },
     "execution_count": 3,
     "metadata": {},
     "output_type": "execute_result"
    }
   ],
   "source": [
    "np.random.rand(10)"
   ]
  },
  {
   "cell_type": "code",
   "execution_count": 4,
   "id": "35a865a8",
   "metadata": {},
   "outputs": [
    {
     "data": {
      "text/plain": [
       "array([[0.04373361, 0.9810083 ],\n",
       "       [0.32147192, 0.15932583]])"
      ]
     },
     "execution_count": 4,
     "metadata": {},
     "output_type": "execute_result"
    }
   ],
   "source": [
    "np.random.rand(2,2)"
   ]
  },
  {
   "cell_type": "markdown",
   "id": "0a53076d",
   "metadata": {},
   "source": [
    "### Fixed Stream"
   ]
  },
  {
   "cell_type": "code",
   "execution_count": 5,
   "id": "e4a54c79",
   "metadata": {},
   "outputs": [],
   "source": [
    "R1 = np.random.RandomState(seed = 1)\n",
    "R2 = np.random.RandomState(seed = 1)"
   ]
  },
  {
   "cell_type": "code",
   "execution_count": 6,
   "id": "113859d5",
   "metadata": {},
   "outputs": [
    {
     "data": {
      "text/plain": [
       "0.417022004702574"
      ]
     },
     "execution_count": 6,
     "metadata": {},
     "output_type": "execute_result"
    }
   ],
   "source": [
    "R1.rand()"
   ]
  },
  {
   "cell_type": "code",
   "execution_count": 7,
   "id": "1a3bb118",
   "metadata": {},
   "outputs": [
    {
     "data": {
      "text/plain": [
       "0.417022004702574"
      ]
     },
     "execution_count": 7,
     "metadata": {},
     "output_type": "execute_result"
    }
   ],
   "source": [
    "R2.rand()"
   ]
  },
  {
   "cell_type": "markdown",
   "id": "36fcec49",
   "metadata": {},
   "source": [
    "#### Notice that following would not create a fixed stream!"
   ]
  },
  {
   "cell_type": "code",
   "execution_count": 8,
   "id": "cabec907",
   "metadata": {},
   "outputs": [],
   "source": [
    "np.random.seed(10)"
   ]
  },
  {
   "cell_type": "code",
   "execution_count": 9,
   "id": "0e65ef5e",
   "metadata": {},
   "outputs": [
    {
     "data": {
      "text/plain": [
       "array([0.77132064, 0.02075195, 0.63364823, 0.74880388, 0.49850701,\n",
       "       0.22479665, 0.19806286, 0.76053071, 0.16911084, 0.08833981,\n",
       "       0.68535982, 0.95339335, 0.00394827, 0.51219226, 0.81262096,\n",
       "       0.61252607, 0.72175532, 0.29187607, 0.91777412, 0.71457578])"
      ]
     },
     "execution_count": 9,
     "metadata": {},
     "output_type": "execute_result"
    }
   ],
   "source": [
    "r1 = spst.uniform.rvs(size = 20)\n",
    "r1"
   ]
  },
  {
   "cell_type": "code",
   "execution_count": 10,
   "id": "d7d9a1dc",
   "metadata": {},
   "outputs": [
    {
     "data": {
      "text/plain": [
       "array([0.54254437, 0.14217005, 0.37334076, 0.67413362, 0.44183317,\n",
       "       0.43401399, 0.61776698, 0.51313824, 0.65039718, 0.60103895,\n",
       "       0.8052232 , 0.52164715, 0.90864888, 0.31923609, 0.09045935,\n",
       "       0.30070006, 0.11398436, 0.82868133, 0.04689632, 0.62628715])"
      ]
     },
     "execution_count": 10,
     "metadata": {},
     "output_type": "execute_result"
    }
   ],
   "source": [
    "r2 = spst.uniform.rvs(size = 20)\n",
    "r2"
   ]
  },
  {
   "cell_type": "markdown",
   "id": "158da12c",
   "metadata": {},
   "source": [
    "#### Here is the correct way"
   ]
  },
  {
   "cell_type": "code",
   "execution_count": 11,
   "id": "e228018f",
   "metadata": {},
   "outputs": [
    {
     "data": {
      "text/plain": [
       "array([0.77132064, 0.02075195, 0.63364823, 0.74880388, 0.49850701,\n",
       "       0.22479665, 0.19806286, 0.76053071, 0.16911084, 0.08833981,\n",
       "       0.68535982, 0.95339335, 0.00394827, 0.51219226, 0.81262096,\n",
       "       0.61252607, 0.72175532, 0.29187607, 0.91777412, 0.71457578])"
      ]
     },
     "execution_count": 11,
     "metadata": {},
     "output_type": "execute_result"
    }
   ],
   "source": [
    "np.random.seed(10)\n",
    "r1 = spst.uniform.rvs(size = 20)\n",
    "r1"
   ]
  },
  {
   "cell_type": "code",
   "execution_count": 12,
   "id": "ba885cd0",
   "metadata": {},
   "outputs": [
    {
     "data": {
      "text/plain": [
       "array([0.77132064, 0.02075195, 0.63364823, 0.74880388, 0.49850701,\n",
       "       0.22479665, 0.19806286, 0.76053071, 0.16911084, 0.08833981,\n",
       "       0.68535982, 0.95339335, 0.00394827, 0.51219226, 0.81262096,\n",
       "       0.61252607, 0.72175532, 0.29187607, 0.91777412, 0.71457578])"
      ]
     },
     "execution_count": 12,
     "metadata": {},
     "output_type": "execute_result"
    }
   ],
   "source": [
    "np.random.seed(10)\n",
    "r2 = spst.uniform.rvs(size = 20)\n",
    "r2"
   ]
  },
  {
   "cell_type": "markdown",
   "id": "8683a8bd",
   "metadata": {},
   "source": [
    "#### Or I guess you can use RandomState"
   ]
  },
  {
   "cell_type": "code",
   "execution_count": 13,
   "id": "bfe41695",
   "metadata": {},
   "outputs": [],
   "source": [
    "R1 = np.random.RandomState(seed = 10)\n",
    "R2 = np.random.RandomState(seed = 10)\n"
   ]
  },
  {
   "cell_type": "code",
   "execution_count": 14,
   "id": "f7bb1edb",
   "metadata": {},
   "outputs": [
    {
     "data": {
      "text/plain": [
       "array([0.77132064, 0.02075195, 0.63364823, 0.74880388, 0.49850701,\n",
       "       0.22479665, 0.19806286, 0.76053071, 0.16911084, 0.08833981])"
      ]
     },
     "execution_count": 14,
     "metadata": {},
     "output_type": "execute_result"
    }
   ],
   "source": [
    "R1.rand(10)"
   ]
  },
  {
   "cell_type": "code",
   "execution_count": 15,
   "id": "80c3cc4b",
   "metadata": {},
   "outputs": [
    {
     "data": {
      "text/plain": [
       "array([0.77132064, 0.02075195, 0.63364823, 0.74880388, 0.49850701,\n",
       "       0.22479665, 0.19806286, 0.76053071, 0.16911084, 0.08833981])"
      ]
     },
     "execution_count": 15,
     "metadata": {},
     "output_type": "execute_result"
    }
   ],
   "source": [
    "R2.rand(10)"
   ]
  },
  {
   "cell_type": "code",
   "execution_count": 16,
   "id": "4df4c9b9",
   "metadata": {},
   "outputs": [
    {
     "data": {
      "text/plain": [
       "array([0.54254437, 0.14217005, 0.37334076, 0.67413362, 0.44183317,\n",
       "       0.43401399, 0.61776698, 0.51313824, 0.65039718, 0.60103895])"
      ]
     },
     "execution_count": 16,
     "metadata": {},
     "output_type": "execute_result"
    }
   ],
   "source": [
    "# this is the global stream\n",
    "np.random.rand(10)"
   ]
  },
  {
   "cell_type": "code",
   "execution_count": 17,
   "id": "5ab326c5",
   "metadata": {},
   "outputs": [
    {
     "data": {
      "text/plain": [
       "array([0.77132064, 0.02075195, 0.63364823, 0.74880388, 0.49850701,\n",
       "       0.22479665, 0.19806286, 0.76053071, 0.16911084, 0.08833981])"
      ]
     },
     "execution_count": 17,
     "metadata": {},
     "output_type": "execute_result"
    }
   ],
   "source": [
    "np.random.seed(10)\n",
    "np.random.rand(10)"
   ]
  },
  {
   "cell_type": "code",
   "execution_count": null,
   "id": "a11624ff",
   "metadata": {},
   "outputs": [],
   "source": []
  }
 ],
 "metadata": {
  "kernelspec": {
   "display_name": "Python 3 (ipykernel)",
   "language": "python",
   "name": "python3"
  },
  "language_info": {
   "codemirror_mode": {
    "name": "ipython",
    "version": 3
   },
   "file_extension": ".py",
   "mimetype": "text/x-python",
   "name": "python",
   "nbconvert_exporter": "python",
   "pygments_lexer": "ipython3",
   "version": "3.9.7"
  }
 },
 "nbformat": 4,
 "nbformat_minor": 5
}

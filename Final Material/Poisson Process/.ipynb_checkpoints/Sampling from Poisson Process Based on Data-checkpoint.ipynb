{
 "cells": [
  {
   "cell_type": "markdown",
   "id": "a175351d",
   "metadata": {},
   "source": [
    "### Sampling from Homogeneous Poisson Process"
   ]
  },
  {
   "cell_type": "code",
   "execution_count": 1,
   "id": "51174244",
   "metadata": {},
   "outputs": [],
   "source": [
    "# We simpy use lmbda = N(T)/T"
   ]
  },
  {
   "cell_type": "markdown",
   "id": "81f8b4c7",
   "metadata": {},
   "source": [
    "### Sampling from Nonhomogeneous Poisson Process (One Cycle)"
   ]
  },
  {
   "cell_type": "code",
   "execution_count": 2,
   "id": "d7dd9639",
   "metadata": {},
   "outputs": [
    {
     "data": {
      "text/plain": [
       "'\\nlinearly interpolate the observations\\n\\nby convention, you should add 1 at time T\\n'"
      ]
     },
     "execution_count": 2,
     "metadata": {},
     "output_type": "execute_result"
    }
   ],
   "source": [
    "'''\n",
    "SIMPLY linearly interpolate the observations\n",
    "\n",
    "by convention, you should add 1 at time T\n",
    "'''\n"
   ]
  },
  {
   "cell_type": "markdown",
   "id": "ba88dbd2",
   "metadata": {},
   "source": [
    "### Sampling from Nonhomogeneous Poisson Process (Multiple Cycle)"
   ]
  },
  {
   "cell_type": "code",
   "execution_count": 3,
   "id": "74e70547",
   "metadata": {},
   "outputs": [
    {
     "data": {
      "text/plain": [
       "'\\nCombine the arrivals \\n\\ndivide by day number\\n'"
      ]
     },
     "execution_count": 3,
     "metadata": {},
     "output_type": "execute_result"
    }
   ],
   "source": [
    "'''\n",
    "Combine the arrivals \n",
    "\n",
    "divide by day number\n",
    "'''"
   ]
  },
  {
   "cell_type": "markdown",
   "id": "b63bc477",
   "metadata": {},
   "source": [
    "example "
   ]
  },
  {
   "cell_type": "code",
   "execution_count": 14,
   "id": "d9ff32b8",
   "metadata": {},
   "outputs": [],
   "source": [
    "import numpy as np\n",
    "from scipy.interpolate import interp1d\n",
    "import matplotlib.pyplot as plt"
   ]
  },
  {
   "cell_type": "code",
   "execution_count": 5,
   "id": "9b4797b7",
   "metadata": {},
   "outputs": [],
   "source": [
    "data = [np.array([0.1,0.7,0.9]),\n",
    "       np.array([0.3,0.75,0.85]),\n",
    "       np.array([0.4,0.71,0.82,0.94]),\n",
    "       np.array([0.35,0.88])]"
   ]
  },
  {
   "cell_type": "code",
   "execution_count": 18,
   "id": "d51b2ddd",
   "metadata": {},
   "outputs": [],
   "source": [
    "def fit_Lambda(data):\n",
    "    k = len(data)\n",
    "    t = np.sort(np.concatenate(data))\n",
    "    t = np.insert(t,0,0.0)\n",
    "    t = np.concatenate([t,np.array([1.0])])\n",
    "    N = np.arange(0,len(t))/k\n",
    "    Lambda = interp1d(t,N)\n",
    "    Lambda_inv = interp1d(N,t)\n",
    "    return Lambda, Lambda_inv"
   ]
  },
  {
   "cell_type": "code",
   "execution_count": 19,
   "id": "3258fe69",
   "metadata": {},
   "outputs": [],
   "source": [
    "Lambda, Lambda_inv = fit_Lambda(data)"
   ]
  },
  {
   "cell_type": "code",
   "execution_count": 20,
   "id": "1407de08",
   "metadata": {},
   "outputs": [],
   "source": [
    "#notice that you got the Lambda_inv, which means you probably can do inversion method after your sepculation on lambda(t)"
   ]
  },
  {
   "cell_type": "markdown",
   "id": "066712e7",
   "metadata": {},
   "source": [
    "example"
   ]
  },
  {
   "cell_type": "code",
   "execution_count": 25,
   "id": "76e15de1",
   "metadata": {},
   "outputs": [],
   "source": [
    "def fit_Lambda(data):\n",
    "    k = len(data)\n",
    "    t = np.sort(np.concatenate(data))\n",
    "    t = np.insert(t,0,0.0)\n",
    "    t = np.concatenate([t,np.array([24.0])])\n",
    "    N = np.arange(0,len(t))/k\n",
    "    Lambda = interp1d(t,N)\n",
    "    Lambda_inv = interp1d(N,t)\n",
    "    return Lambda, Lambda_inv"
   ]
  },
  {
   "cell_type": "code",
   "execution_count": 26,
   "id": "be695140",
   "metadata": {},
   "outputs": [],
   "source": [
    "S_1 = [8,21]\n",
    "S_2 = [3,11,19]\n",
    "S_3 = [4,17,22,23]\n",
    "S_4 = [6,9,10,14]"
   ]
  },
  {
   "cell_type": "code",
   "execution_count": 27,
   "id": "81a67a18",
   "metadata": {},
   "outputs": [],
   "source": [
    "data = [S_1,S_2,S_3,S_4]"
   ]
  },
  {
   "cell_type": "code",
   "execution_count": 28,
   "id": "d382686b",
   "metadata": {},
   "outputs": [],
   "source": [
    "Lambda, Lambda_inv = fit_Lambda(data)"
   ]
  },
  {
   "cell_type": "code",
   "execution_count": 31,
   "id": "d0850df5",
   "metadata": {},
   "outputs": [],
   "source": [
    "ts = np.sort(np.hstack([[0.,24.],S_1,S_2,S_3,S_4]))\n",
    "Ns = np.arange(ts.shape[0]) / 4"
   ]
  },
  {
   "cell_type": "code",
   "execution_count": 36,
   "id": "65362b1a",
   "metadata": {},
   "outputs": [],
   "source": [
    "def lmbda(t):\n",
    "    if (t<= ts[0]) or (t >= ts[-1]):\n",
    "        return 0\n",
    "    l = np.where(ts<=t)[0].max()\n",
    "    n = np.where(ts>=t)[0].min()\n",
    "    return 1/(ts[n]-ts[l])"
   ]
  },
  {
   "cell_type": "code",
   "execution_count": 38,
   "id": "cccbfdaf",
   "metadata": {},
   "outputs": [
    {
     "data": {
      "text/plain": [
       "[<matplotlib.lines.Line2D at 0x287a36ff3d0>]"
      ]
     },
     "execution_count": 38,
     "metadata": {},
     "output_type": "execute_result"
    },
    {
     "data": {
      "image/png": "[encoded data removed]",
      "text/plain": [
       "<Figure size 432x288 with 1 Axes>"
      ]
     },
     "metadata": {
      "needs_background": "light"
     },
     "output_type": "display_data"
    }
   ],
   "source": [
    "xs = np.linspace(0,24,99)\n",
    "plt.plot(xs,Lambda(xs))\n",
    "plt.plot(xs,[lmbda(t) for t in xs])"
   ]
  },
  {
   "cell_type": "code",
   "execution_count": 62,
   "id": "ee4333ac",
   "metadata": {},
   "outputs": [],
   "source": [
    "def sample_inversion():\n",
    "    t = 0\n",
    "    arrivals = []\n",
    "    while True:\n",
    "        dt = np.random.exponential()\n",
    "        if t + dt > Lambda(24):\n",
    "            return np.array(arrivals)\n",
    "        t += dt\n",
    "        arrivals.append(Lambda_inv(t))"
   ]
  },
  {
   "cell_type": "code",
   "execution_count": 63,
   "id": "9697e2f5",
   "metadata": {},
   "outputs": [],
   "source": [
    "samples = [sample_inversion() for _ in range(10000)]"
   ]
  },
  {
   "cell_type": "code",
   "execution_count": 65,
   "id": "78fbb3ac",
   "metadata": {},
   "outputs": [
    {
     "data": {
      "text/plain": [
       "(array([0.02540354, 0.02494218, 0.02329859, 0.06862705, 0.03610129,\n",
       "        0.03491906, 0.03563993, 0.03517857, 0.07122219, 0.0689154 ,\n",
       "        0.07505723, 0.0239618 , 0.02407714, 0.02381762, 0.02514403,\n",
       "        0.02425015, 0.02358694, 0.03514974, 0.03390984, 0.03428469,\n",
       "        0.03584177, 0.07260626, 0.0726351 , 0.07151054]),\n",
       " array([1.36415403e-03, 1.00128353e+00, 2.00120291e+00, 3.00112229e+00,\n",
       "        4.00104167e+00, 5.00096105e+00, 6.00088043e+00, 7.00079981e+00,\n",
       "        8.00071919e+00, 9.00063857e+00, 1.00005579e+01, 1.10004773e+01,\n",
       "        1.20003967e+01, 1.30003161e+01, 1.40002355e+01, 1.50001548e+01,\n",
       "        1.60000742e+01, 1.69999936e+01, 1.79999130e+01, 1.89998324e+01,\n",
       "        1.99997517e+01, 2.09996711e+01, 2.19995905e+01, 2.29995099e+01,\n",
       "        2.39994293e+01]),\n",
       " <BarContainer object of 24 artists>)"
      ]
     },
     "execution_count": 65,
     "metadata": {},
     "output_type": "execute_result"
    },
    {
     "data": {
      "image/png": "[encoded data removed]",
      "text/plain": [
       "<Figure size 432x288 with 1 Axes>"
      ]
     },
     "metadata": {
      "needs_background": "light"
     },
     "output_type": "display_data"
    }
   ],
   "source": [
    "plt.hist(np.hstack(samples), density = True,  bins = 24)"
   ]
  },
  {
   "cell_type": "code",
   "execution_count": 68,
   "id": "6743d147",
   "metadata": {},
   "outputs": [],
   "source": [
    "def max_iav(arrivals):\n",
    "    return np.max(np.diff(np.hstack([[0.],arrivals,[24.]])))"
   ]
  },
  {
   "cell_type": "code",
   "execution_count": 69,
   "id": "6ef86fed",
   "metadata": {},
   "outputs": [
    {
     "data": {
      "text/plain": [
       "(array([0.0041007 , 0.01628563, 0.03667197, 0.05530085, 0.07404691,\n",
       "        0.09173849, 0.10029138, 0.10263464, 0.07920207, 0.07955356,\n",
       "        0.09208998, 0.07920207, 0.06350225, 0.0456935 , 0.03491452,\n",
       "        0.0365548 , 0.02753326, 0.02882206, 0.02425271, 0.02132363,\n",
       "        0.01687145, 0.01382521, 0.04721662]),\n",
       " array([ 4.36920043,  5.22271345,  6.07622648,  6.9297395 ,  7.78325253,\n",
       "         8.63676555,  9.49027858, 10.3437916 , 11.19730463, 12.05081765,\n",
       "        12.90433068, 13.7578437 , 14.61135673, 15.46486975, 16.31838278,\n",
       "        17.1718958 , 18.02540883, 18.87892185, 19.73243488, 20.5859479 ,\n",
       "        21.43946093, 22.29297395, 23.14648698, 24.        ]),\n",
       " <BarContainer object of 23 artists>)"
      ]
     },
     "execution_count": 69,
     "metadata": {},
     "output_type": "execute_result"
    },
    {
     "data": {
      "image/png": "[encoded data removed]",
      "text/plain": [
       "<Figure size 432x288 with 1 Axes>"
      ]
     },
     "metadata": {
      "needs_background": "light"
     },
     "output_type": "display_data"
    }
   ],
   "source": [
    "plt.hist([max_iav(s) for s in samples],density = True, bins = 23)"
   ]
  }
 ],
 "metadata": {
  "kernelspec": {
   "display_name": "Python 3 (ipykernel)",
   "language": "python",
   "name": "python3"
  },
  "language_info": {
   "codemirror_mode": {
    "name": "ipython",
    "version": 3
   },
   "file_extension": ".py",
   "mimetype": "text/x-python",
   "name": "python",
   "nbconvert_exporter": "python",
   "pygments_lexer": "ipython3",
   "version": "3.9.7"
  }
 },
 "nbformat": 4,
 "nbformat_minor": 5
}

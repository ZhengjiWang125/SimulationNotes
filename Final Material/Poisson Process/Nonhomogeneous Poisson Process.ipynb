{
 "cells": [
  {
   "cell_type": "markdown",
   "id": "9767e3b5",
   "metadata": {},
   "source": [
    "### There are three ways to simulate Nonhomogeneous Poisson Process"
   ]
  },
  {
   "cell_type": "markdown",
   "id": "1565e848",
   "metadata": {},
   "source": [
    "### Thinning Method"
   ]
  },
  {
   "cell_type": "code",
   "execution_count": 1,
   "id": "eeb8ca2e",
   "metadata": {},
   "outputs": [
    {
     "data": {
      "text/plain": [
       "'\\n1. Find lmbda = max(lmbda(t)), let p(t) = lmbda(t)/lmbda\\n2. Generate homogeneous Poisson Process with lmdba\\n3. keep each one with probability lmbda(t1)/lmbda, lmbda(t2)/lmbda ....\\n'"
      ]
     },
     "execution_count": 1,
     "metadata": {},
     "output_type": "execute_result"
    }
   ],
   "source": [
    "'''\n",
    "1. Find lmbda = max(lmbda(t)), let p(t) = lmbda(t)/lmbda\n",
    "2. Generate homogeneous Poisson Process with lmdba\n",
    "3. keep each one with probability lmbda(t1)/lmbda, lmbda(t2)/lmbda ....\n",
    "'''"
   ]
  },
  {
   "cell_type": "markdown",
   "id": "8fd0ad52",
   "metadata": {},
   "source": [
    "example"
   ]
  },
  {
   "cell_type": "code",
   "execution_count": 2,
   "id": "56f0f86d",
   "metadata": {},
   "outputs": [],
   "source": [
    "#lmbda(t) = -(t-1)**2 + 2  0<= t <= 2"
   ]
  },
  {
   "cell_type": "code",
   "execution_count": 3,
   "id": "2b03059d",
   "metadata": {},
   "outputs": [],
   "source": [
    "import matplotlib.pyplot as pt\n",
    "import numpy as np\n",
    "from scipy.optimize import minimize_scalar\n",
    "from scipy.stats import poisson, uniform"
   ]
  },
  {
   "cell_type": "code",
   "execution_count": 4,
   "id": "9388e1e8",
   "metadata": {},
   "outputs": [],
   "source": [
    "def poisson_process(lmbda, T):\n",
    "    N = poisson.rvs(lmbda * T)\n",
    "    S = uniform.rvs(size = N) * T\n",
    "    return np.sort(S)"
   ]
  },
  {
   "cell_type": "code",
   "execution_count": 5,
   "id": "661d29c9",
   "metadata": {},
   "outputs": [],
   "source": [
    "def thinning(lmbda, lmbda_max, T):\n",
    "    ts = poisson_process(lmbda_max,T)\n",
    "    S = []\n",
    "    for t in ts:\n",
    "        p = lmbda(t) / lmbda_max\n",
    "        if uniform.rvs() < p:\n",
    "            S.append(t)\n",
    "    return np.array(S)"
   ]
  },
  {
   "cell_type": "code",
   "execution_count": 6,
   "id": "defde128",
   "metadata": {},
   "outputs": [],
   "source": [
    "def lmbda(t):\n",
    "    return -(t - 1) ** 2 + 2\n",
    "#because we want to find the max, we need to have a negative function\n",
    "def neg_lmbda(t):\n",
    "    return -1 * lmbda(t)\n",
    "T = 2\n",
    "sol = minimize_scalar(neg_lmbda, bounds = (0,T))\n",
    "lmbda_max = lmbda(sol.x)"
   ]
  },
  {
   "cell_type": "code",
   "execution_count": 7,
   "id": "f62f0749",
   "metadata": {},
   "outputs": [],
   "source": [
    "n = 10000\n",
    "S = []\n",
    "for i in range(0,n):\n",
    "    S.append(thinning(lmbda,lmbda_max,T))"
   ]
  },
  {
   "cell_type": "code",
   "execution_count": 8,
   "id": "0175cee7",
   "metadata": {},
   "outputs": [
    {
     "data": {
      "text/plain": [
       "[<matplotlib.lines.Line2D at 0x2361d1ec250>]"
      ]
     },
     "execution_count": 8,
     "metadata": {},
     "output_type": "execute_result"
    },
    {
     "data": {
      "image/png": "[encoded data removed]",
      "text/plain": [
       "<Figure size 432x288 with 1 Axes>"
      ]
     },
     "metadata": {
      "needs_background": "light"
     },
     "output_type": "display_data"
    }
   ],
   "source": [
    "import matplotlib.pyplot as plt\n",
    "ts = np.linspace(0.0,1,101)\n",
    "means = np.zeros(101)\n",
    "for j, t in enumerate (ts):\n",
    "    for i in range(0,n):\n",
    "        means[j] += np.sum(S[i]<=t)\n",
    "means = means/n\n",
    "\n",
    "y = -(ts ** 3)/ 3 + (ts ** 2) + ts\n",
    "plt.plot(ts,means)\n",
    "plt.plot(ts,y)"
   ]
  },
  {
   "cell_type": "markdown",
   "id": "b3536ab6",
   "metadata": {},
   "source": [
    "### Ordered Statistic"
   ]
  },
  {
   "cell_type": "code",
   "execution_count": 9,
   "id": "14a356d2",
   "metadata": {},
   "outputs": [
    {
     "data": {
      "text/plain": [
       "'\\n1.Calculate Lambda(t), which is the ingegral of lmbda(t)\\n2.Generate N(T) from NPP(Lmbda(T))\\n3.Generate X1,.... XN(T) FROM DISTIRBUTION lmbda(t)/Lmbda(T)\\n    you can use inverse transform\\n    and \\n    you can use rejection sampling\\n4.return sorted X\\n'"
      ]
     },
     "execution_count": 9,
     "metadata": {},
     "output_type": "execute_result"
    }
   ],
   "source": [
    "'''\n",
    "1.Calculate Lambda(t), which is the ingegral of lmbda(t)\n",
    "2.Generate N(T) from NPP(Lmbda(T))\n",
    "3.Generate X1,.... XN(T) FROM DISTIRBUTION lmbda(t)/Lmbda(T)\n",
    "    you can use inverse transform\n",
    "    and \n",
    "    you can use rejection sampling\n",
    "4.return sorted X\n",
    "'''"
   ]
  },
  {
   "cell_type": "markdown",
   "id": "84bf8964",
   "metadata": {},
   "source": [
    "#### example using inverse transform"
   ]
  },
  {
   "cell_type": "code",
   "execution_count": 10,
   "id": "5b0b8571",
   "metadata": {},
   "outputs": [],
   "source": [
    "def lmbda(t):\n",
    "    return 42 * t * np.exp(-t**2)\n",
    "def Lmbda(t):\n",
    "    return 21 - 21 * np.exp(-t**2)\n",
    "def N_arrivals(T):\n",
    "    L = Lmbda(T)\n",
    "    return poisson.rvs(L)\n",
    "def inv_cdf(u,T):\n",
    "    term1 = 1 - np.exp(-T**2)\n",
    "    return np.sqrt(-np.log(1-u*term1))\n"
   ]
  },
  {
   "cell_type": "code",
   "execution_count": 11,
   "id": "3f45aeb1",
   "metadata": {},
   "outputs": [
    {
     "data": {
      "text/plain": [
       "array([0.39762166, 0.40515032, 0.42367138, 0.7349404 , 0.74335833,\n",
       "       0.84337234, 0.91454118, 0.9363072 , 0.97394043, 1.00145068,\n",
       "       1.0613223 , 1.10748964, 1.415145  , 2.09577987])"
      ]
     },
     "execution_count": 11,
     "metadata": {},
     "output_type": "execute_result"
    }
   ],
   "source": [
    "def Simulate(T):\n",
    "    N = N_arrivals(T)\n",
    "    X = np.zeros(N)\n",
    "    for i in range(N):\n",
    "        u = uniform.rvs()\n",
    "        X[i] = inv_cdf(u,T)\n",
    "    return np.sort(X)\n",
    "    \n",
    "result = Simulate(6)\n",
    "result"
   ]
  },
  {
   "cell_type": "code",
   "execution_count": 12,
   "id": "ef81436f",
   "metadata": {},
   "outputs": [],
   "source": [
    "from pynverse import inversefunc"
   ]
  },
  {
   "cell_type": "code",
   "execution_count": 13,
   "id": "e8db5634",
   "metadata": {},
   "outputs": [],
   "source": [
    "from pynverse import inversefunc\n",
    "def Lmbda(t):\n",
    "    return 21 - 21 * np.exp(-t**2)\n",
    "\n",
    "def cdf(t):\n",
    "    return Lmbda(t)/Lmbda(6)\n",
    "\n",
    "cdf_inv = inversefunc(cdf,domain = [0,6], open_domain = [False, False])\n",
    "\n",
    "def sample_q2_itm():\n",
    "    arrival_count = poisson.rvs(Lmbda(2))\n",
    "    return np.sort([cdf_inv(u) for u in uniform.rvs(size = arrival_count)])"
   ]
  },
  {
   "cell_type": "code",
   "execution_count": 14,
   "id": "efaf92dd",
   "metadata": {},
   "outputs": [
    {
     "data": {
      "text/plain": [
       "array([0.30509888, 0.33982721, 0.39700447, 0.45704798, 0.5441861 ,\n",
       "       0.54669252, 0.55464306, 0.55675134, 0.60103787, 0.62156051,\n",
       "       0.67313328, 0.7242339 , 0.78103499, 0.98338495, 0.98675755,\n",
       "       1.03258509, 1.04902847, 1.14060581, 1.20870101, 1.34157688,\n",
       "       1.40208499])"
      ]
     },
     "execution_count": 14,
     "metadata": {},
     "output_type": "execute_result"
    }
   ],
   "source": [
    "sample_q2_itm()"
   ]
  },
  {
   "cell_type": "markdown",
   "id": "52b46ca5",
   "metadata": {},
   "source": [
    "#### example using rejection sampling"
   ]
  },
  {
   "cell_type": "code",
   "execution_count": 15,
   "id": "edcb46db",
   "metadata": {},
   "outputs": [],
   "source": [
    "from pynverse import inversefunc"
   ]
  },
  {
   "cell_type": "code",
   "execution_count": 16,
   "id": "29c9e24e",
   "metadata": {},
   "outputs": [
    {
     "name": "stdout",
     "output_type": "stream",
     "text": [
      "c:1.085123125735553\n"
     ]
    }
   ],
   "source": [
    "T = 2\n",
    "\n",
    "from scipy.optimize import minimize_scalar\n",
    "def pdf(t):\n",
    "    return (1 + t/2 -t**2/3 + t**3/40)/(T + T**2 / 4 - T**3 / 9 +  T**4/ 160)\n",
    "def q(t):\n",
    "    return 1/2\n",
    "def m_pdf(t):\n",
    "    return -pdf(t)/q(t)\n",
    "#We can use uniform distribution on (0,2) as our proposal\n",
    "sol = minimize_scalar(m_pdf, bounds = (0, T))\n",
    "c = 2 * pdf(sol.x) \n",
    "print('c:{}'.format(c))\n",
    "deno = T + T**2 / 4 - T**3 / 9 +  T**4/ 160\n",
    "\n",
    "\n",
    "\n",
    "def rejection_sampling():\n",
    "    X = poisson.rvs(deno)\n",
    "    S = []\n",
    "    for i in range(X):\n",
    "        Y = 2 * uniform.rvs() \n",
    "        while uniform.rvs() > pdf(Y)*2/c:\n",
    "            Y = 2 * uniform.rvs()\n",
    "        S.append(Y)\n",
    "    return np.array(sorted(S))"
   ]
  },
  {
   "cell_type": "markdown",
   "id": "dec576c7",
   "metadata": {},
   "source": [
    "Or simply use inverse transform"
   ]
  },
  {
   "cell_type": "code",
   "execution_count": 17,
   "id": "4c141b7a",
   "metadata": {},
   "outputs": [],
   "source": [
    "from pynverse import inversefunc\n",
    "def Lmbda(t):\n",
    "    return t + t**2/4 - t**3/9 + t**4/160\n",
    "\n",
    "def cdf(t):\n",
    "    return Lmbda(t)/Lmbda(2)\n",
    "\n",
    "cdf_inv = inversefunc(cdf)\n",
    "\n",
    "def sample_q2_itm():\n",
    "    arrival_count = poisson.rvs(Lmbda(2))\n",
    "    return np.sort([cdf_inv(u) for u in uniform.rvs(size = arrival_count)])"
   ]
  },
  {
   "cell_type": "code",
   "execution_count": 18,
   "id": "fdea4996",
   "metadata": {},
   "outputs": [
    {
     "data": {
      "text/plain": [
       "array([0.32183351, 1.11795433])"
      ]
     },
     "execution_count": 18,
     "metadata": {},
     "output_type": "execute_result"
    }
   ],
   "source": [
    "sample_q2_itm()"
   ]
  },
  {
   "cell_type": "markdown",
   "id": "01ae45a1",
   "metadata": {},
   "source": [
    "### Inversion Method"
   ]
  },
  {
   "cell_type": "code",
   "execution_count": 19,
   "id": "9c8536ce",
   "metadata": {},
   "outputs": [
    {
     "data": {
      "text/plain": [
       "'\\n1 Find the inverse function for Lambda(t)\\n2 Generate arrival time for PP(1) FROM  0<= t <= Lambda(T)\\n3.return Lambda-1(s1),.....\\n'"
      ]
     },
     "execution_count": 19,
     "metadata": {},
     "output_type": "execute_result"
    }
   ],
   "source": [
    "'''\n",
    "1 Find the inverse function for Lambda(t)\n",
    "2 Generate arrival time for PP(1) FROM  0<= t <= Lambda(T)\n",
    "3.return Lambda-1(s1),.....\n",
    "'''"
   ]
  },
  {
   "cell_type": "code",
   "execution_count": 20,
   "id": "5ec110d5",
   "metadata": {},
   "outputs": [],
   "source": [
    "from pynverse import inversefunc\n",
    "def poisson_process(lmbda,T):\n",
    "    N = poisson.rvs(lmbda * T)\n",
    "    S = uniform.rvs(size = N) * T\n",
    "    return np.sort(S)\n",
    "\n",
    "def Lmbda(t):\n",
    "    return 250 / np.pi * (1 - np.cos(np.pi * t / 10))\n",
    "\n",
    "def inv(t):\n",
    "    inv_1 = inversefunc(Lmbda, domain = [0,10], open_domain = [False, False])\n",
    "    return inv_1(t)\n",
    "\n",
    "def inv_method(Lmbda,t):\n",
    "    Lambdat = Lmbda(t)\n",
    "    S = poisson_process(1,Lambdat)\n",
    "    return np.sort(inv(S))\n",
    "\n",
    "arrivals = inv_method(Lmbda,10)"
   ]
  },
  {
   "cell_type": "code",
   "execution_count": 21,
   "id": "eb4ab16c",
   "metadata": {},
   "outputs": [],
   "source": [
    "def evaluate_process(S,t):\n",
    "    return np.sum(t >= S)"
   ]
  },
  {
   "cell_type": "code",
   "execution_count": null,
   "id": "1ba17868",
   "metadata": {},
   "outputs": [],
   "source": [
    "tsim = 10000\n",
    "x_range = np.linspace(0.01,1,100)\n",
    "Nt = np.zeros([tsim,len(x_range)])\n",
    "for i in range(tsim):\n",
    "    S = inv_method(Lmbda,11)\n",
    "    for k,j in enumerate(x_range):\n",
    "        Nt[i,k] = evaluate_process(S,j)"
   ]
  },
  {
   "cell_type": "code",
   "execution_count": null,
   "id": "e2e165bf",
   "metadata": {},
   "outputs": [],
   "source": [
    "y = []\n",
    "for i in range(len(x_range)):\n",
    "    y.append(np.mean(Nt[:,i],axis = 0))\n",
    "plt.plot(x_range,y)"
   ]
  },
  {
   "cell_type": "code",
   "execution_count": null,
   "id": "a1a0aace",
   "metadata": {},
   "outputs": [],
   "source": []
  }
 ],
 "metadata": {
  "kernelspec": {
   "display_name": "Python 3 (ipykernel)",
   "language": "python",
   "name": "python3"
  },
  "language_info": {
   "codemirror_mode": {
    "name": "ipython",
    "version": 3
   },
   "file_extension": ".py",
   "mimetype": "text/x-python",
   "name": "python",
   "nbconvert_exporter": "python",
   "pygments_lexer": "ipython3",
   "version": "3.9.7"
  }
 },
 "nbformat": 4,
 "nbformat_minor": 5
}

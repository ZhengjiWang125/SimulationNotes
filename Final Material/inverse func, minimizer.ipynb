{
 "cells": [
  {
   "cell_type": "code",
   "execution_count": 5,
   "id": "98a24bc7",
   "metadata": {},
   "outputs": [],
   "source": [
    "#Find biggest c or max(lambda)"
   ]
  },
  {
   "cell_type": "code",
   "execution_count": 6,
   "id": "d70459d4",
   "metadata": {},
   "outputs": [],
   "source": [
    "import numpy as np\n",
    "import pynverse\n",
    "\n",
    "from scipy.optimize import minimize_scalar\n",
    "from scipy.stats import uniform\n",
    "\n"
   ]
  },
  {
   "cell_type": "code",
   "execution_count": 7,
   "id": "6efe8116",
   "metadata": {},
   "outputs": [],
   "source": [
    "a = 2\n",
    "b = 2\n",
    "\n",
    "def f(x):\n",
    "    return a * b * np.power(x, a-1) * np.power(1 - x**a, b-1)\n",
    "\n",
    "def neg_f(x):\n",
    "    return (-1) * f(x)\n",
    "\n",
    "res = minimize_scalar(neg_f, method='bounded',bounds=(0,1))\n",
    "c = f(res.x)"
   ]
  },
  {
   "cell_type": "code",
   "execution_count": 8,
   "id": "0499fefe",
   "metadata": {},
   "outputs": [
    {
     "data": {
      "text/plain": [
       "1.5396007178389617"
      ]
     },
     "execution_count": 8,
     "metadata": {},
     "output_type": "execute_result"
    }
   ],
   "source": [
    "c"
   ]
  },
  {
   "cell_type": "markdown",
   "id": "eebdc36a",
   "metadata": {},
   "source": [
    "Inverse Func for Inverse Transform"
   ]
  },
  {
   "cell_type": "code",
   "execution_count": 9,
   "id": "11e59136",
   "metadata": {},
   "outputs": [],
   "source": [
    "from pynverse import inversefunc\n",
    "def Lmbda(t):\n",
    "    return 21 - 21 * np.exp(-t**2)\n",
    "\n",
    "def cdf(t):\n",
    "    return Lmbda(t)/Lmbda(6)\n",
    "\n",
    "cdf_inv = inversefunc(cdf,domain = [0,6], open_domain = [False, False])"
   ]
  },
  {
   "cell_type": "code",
   "execution_count": 10,
   "id": "dd0470ae",
   "metadata": {},
   "outputs": [],
   "source": [
    "U = uniform.rvs()"
   ]
  },
  {
   "cell_type": "code",
   "execution_count": 11,
   "id": "48e8eb1a",
   "metadata": {},
   "outputs": [
    {
     "data": {
      "text/plain": [
       "array(0.27383349)"
      ]
     },
     "execution_count": 11,
     "metadata": {},
     "output_type": "execute_result"
    }
   ],
   "source": [
    "cdf_inv(U)"
   ]
  }
 ],
 "metadata": {
  "kernelspec": {
   "display_name": "Python 3 (ipykernel)",
   "language": "python",
   "name": "python3"
  },
  "language_info": {
   "codemirror_mode": {
    "name": "ipython",
    "version": 3
   },
   "file_extension": ".py",
   "mimetype": "text/x-python",
   "name": "python",
   "nbconvert_exporter": "python",
   "pygments_lexer": "ipython3",
   "version": "3.9.7"
  }
 },
 "nbformat": 4,
 "nbformat_minor": 5
}

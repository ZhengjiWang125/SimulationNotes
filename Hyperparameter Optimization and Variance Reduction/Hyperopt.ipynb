{
 "cells": [
  {
   "cell_type": "code",
   "execution_count": 1,
   "id": "c1dd6317",
   "metadata": {},
   "outputs": [],
   "source": [
    "import hyperopt\n",
    "import numpy as np\n",
    "import simpy\n",
    "\n",
    "from scipy.stats import expon"
   ]
  },
  {
   "cell_type": "code",
   "execution_count": 2,
   "id": "ea3f39cd",
   "metadata": {},
   "outputs": [],
   "source": [
    "lmbda = [20,10,30,10]\n",
    "\n",
    "def arrivals(env,servers,T):\n",
    "    while True:\n",
    "        dt = expon.rvs(scale = 1/lmbda[0])\n",
    "        if env.now + dt > 1:\n",
    "            break\n",
    "        yield env.timeout(dt)\n",
    "        env.process(service(env,servers,T))\n",
    "        \n",
    "def service(env,servers,T):\n",
    "    t0 = env.now\n",
    "    for i, server in enumerate(servers):\n",
    "        rqt = server.request()\n",
    "        yield rqt\n",
    "        dt = expon.rvs(scale = 1/lmbda[i+1])\n",
    "        yield env.timeout(dt)\n",
    "        server.release(rqt)     \n",
    "    t1 = env.now\n",
    "    T.append(t1 - t0)\n",
    "\n",
    "def simulate(n1,n2):\n",
    "    T = []\n",
    "    env = simpy.Environment()\n",
    "    servers = [simpy.Resource(env,capacity = n1),\n",
    "              simpy.Resource(env,capacity = n2),\n",
    "              simpy.Resource(env,capacity = 20-n1-n2)]\n",
    "    env.process(arrivals(env,servers,T))\n",
    "    env.run()\n",
    "    return np.mean(T)\n",
    "\n",
    "\n",
    "def eval_mean(n):\n",
    "    n1 = n[0]\n",
    "    n2 = n[1]\n",
    "    X = [simulate(n1,n2) for i in range(0,100)]\n",
    "    return np.mean(X)\n",
    "\n"
   ]
  },
  {
   "cell_type": "code",
   "execution_count": 6,
   "id": "6a12680c",
   "metadata": {},
   "outputs": [
    {
     "name": "stdout",
     "output_type": "stream",
     "text": [
      "100%|███████████████████████████████████████████████| 50/50 [00:14<00:00,  3.57trial/s, best loss: 0.22747667667221477]\n",
      "{'n1': 5.0, 'n2': 8.0}\n"
     ]
    }
   ],
   "source": [
    "best = hyperopt.fmin(fn=eval_mean, space = [hyperopt.hp.quniform('n1',1,9,1), hyperopt.hp.quniform('n2',1,9,1)],\n",
    "                   algo = hyperopt.tpe.suggest,\n",
    "                   max_evals = 50)\n",
    "print(best)\n",
    "#we are evaluating the simulating function itself"
   ]
  },
  {
   "cell_type": "code",
   "execution_count": 7,
   "id": "4da8d25b",
   "metadata": {},
   "outputs": [],
   "source": [
    "#you can also try to use grid search, but it would be definitely inefficient. "
   ]
  },
  {
   "cell_type": "code",
   "execution_count": null,
   "id": "13a36832",
   "metadata": {},
   "outputs": [],
   "source": []
  }
 ],
 "metadata": {
  "kernelspec": {
   "display_name": "Python 3 (ipykernel)",
   "language": "python",
   "name": "python3"
  },
  "language_info": {
   "codemirror_mode": {
    "name": "ipython",
    "version": 3
   },
   "file_extension": ".py",
   "mimetype": "text/x-python",
   "name": "python",
   "nbconvert_exporter": "python",
   "pygments_lexer": "ipython3",
   "version": "3.9.7"
  }
 },
 "nbformat": 4,
 "nbformat_minor": 5
}

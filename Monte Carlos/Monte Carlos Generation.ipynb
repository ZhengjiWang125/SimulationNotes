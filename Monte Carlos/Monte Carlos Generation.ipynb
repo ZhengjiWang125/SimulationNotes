{
 "cells": [
  {
   "cell_type": "markdown",
   "id": "9fcae960",
   "metadata": {},
   "source": [
    "# Monte Carlos Simulation"
   ]
  },
  {
   "cell_type": "markdown",
   "id": "5dc7e25c",
   "metadata": {},
   "source": [
    "## 1-D Monte Carlos for f(x)'s integral from 0 to 1"
   ]
  },
  {
   "cell_type": "code",
   "execution_count": 1,
   "id": "340326cc",
   "metadata": {},
   "outputs": [
    {
     "data": {
      "text/plain": [
       "'\\nStep 1: Generate many xx from Uniform(0,1)Uniform(0,1)\\n\\nStep 2: Calculate g(x)g(x) for each xx\\n\\nStep 3: Calculate the sample mean of all the g(x)g(x) generated in Step 2\\n'"
      ]
     },
     "execution_count": 1,
     "metadata": {},
     "output_type": "execute_result"
    }
   ],
   "source": [
    "'''\n",
    "Step 1: Generate many x from Uniform(0,1)\n",
    "\n",
    "Step 2: Calculate g(x) for each x\n",
    "\n",
    "Step 3: Calculate the sample mean of all the g(x) generated in Step 2\n",
    "'''"
   ]
  },
  {
   "cell_type": "code",
   "execution_count": 6,
   "id": "3f724dd9",
   "metadata": {},
   "outputs": [
    {
     "data": {
      "text/plain": [
       "0.7444510597636933"
      ]
     },
     "execution_count": 6,
     "metadata": {},
     "output_type": "execute_result"
    }
   ],
   "source": [
    "# integral [0,1] e^(-x^2)\n",
    "import numpy as np\n",
    "x = np.random.rand(10000)\n",
    "gx = np.exp(-x**2)\n",
    "gx.mean()"
   ]
  },
  {
   "cell_type": "markdown",
   "id": "ce014d39",
   "metadata": {},
   "source": [
    "## 1-D Monte Carlos for f(x)'s integral from a to b"
   ]
  },
  {
   "cell_type": "code",
   "execution_count": null,
   "id": "4d123bde",
   "metadata": {},
   "outputs": [],
   "source": [
    "'''\n",
    "What is important is to make sure h(0) = a h(1) = b\n",
    "\n",
    "For finite a and b, a good choice would be h(x) = a + (b-a)*x\n",
    "\n",
    "f(y) integral from a to b f(h(x))*h'(x) integral from 0 to 1\n",
    "\n",
    "Step 1: Generate many x from Uniform(0,1)\n",
    "\n",
    "Step 2: Calculate g(x) for each x. Now g(x)=f(a+(b−a)x)(b−a)\n",
    "\n",
    "Step 3: Calculate the sample mean of all the g(x)g(x) generated in Step 2\n",
    "\n",
    "'''"
   ]
  },
  {
   "cell_type": "code",
   "execution_count": 8,
   "id": "2a6a8931",
   "metadata": {},
   "outputs": [
    {
     "data": {
      "text/plain": [
       "-0.17021093385074695"
      ]
     },
     "execution_count": 8,
     "metadata": {},
     "output_type": "execute_result"
    }
   ],
   "source": [
    "x = np.random.rand(1000)\n",
    "hx = x + 1\n",
    "fy = np.exp(-hx)/-hx\n",
    "gy = np.exp(-hx)/-hx * (1)\n",
    "gy.mean()\n",
    "\n"
   ]
  },
  {
   "cell_type": "markdown",
   "id": "f938a160",
   "metadata": {},
   "source": [
    "## 1-D Monte Carlos for f(x)'s integral from -infinity to b"
   ]
  },
  {
   "cell_type": "code",
   "execution_count": 9,
   "id": "844fc101",
   "metadata": {},
   "outputs": [
    {
     "data": {
      "text/plain": [
       "\"\\nh(0) = -infinity\\nh(1) = b\\n\\nh(x) = -1/x + b + 1\\nh'(x) = 1/x**2\\n\\nStep 1: Generate many x from Uniform(0,1)\\n\\nStep 2: Calculate g(x) for each x. Now g(x) = f(1-1/x+b)/x^2\\n \\nStep 3: Calculate the sample mean of all the g(x) generated in Step 2\\n\\n\\n\""
      ]
     },
     "execution_count": 9,
     "metadata": {},
     "output_type": "execute_result"
    }
   ],
   "source": [
    "'''\n",
    "h(0) = -infinity\n",
    "h(1) = b\n",
    "\n",
    "h(x) = -1/x + b + 1\n",
    "h'(x) = 1/x**2\n",
    "\n",
    "Step 1: Generate many x from Uniform(0,1)\n",
    "\n",
    "Step 2: Calculate g(x) for each x. Now g(x) = f(1-1/x+b)/x^2\n",
    " \n",
    "Step 3: Calculate the sample mean of all the g(x) generated in Step 2\n",
    "\n",
    "\n",
    "'''"
   ]
  },
  {
   "cell_type": "code",
   "execution_count": 11,
   "id": "858e06c8",
   "metadata": {},
   "outputs": [
    {
     "data": {
      "text/plain": [
       "0.022410214938974382"
      ]
     },
     "execution_count": 11,
     "metadata": {},
     "output_type": "execute_result"
    }
   ],
   "source": [
    "b = -2\n",
    "x = np.random.rand(1000)\n",
    "hx = -1/x + b + 1\n",
    "fy = 1/np.sqrt(2*np.pi)*np.exp(-hx**2/2)\n",
    "gy = fy * (1/x**2)\n",
    "gy.mean()"
   ]
  },
  {
   "cell_type": "markdown",
   "id": "2f152a7d",
   "metadata": {},
   "source": [
    "## 1-D Monte Carlos for f(x)'s integral from a to infinity"
   ]
  },
  {
   "cell_type": "code",
   "execution_count": 12,
   "id": "21ac71cb",
   "metadata": {},
   "outputs": [
    {
     "data": {
      "text/plain": [
       "\"\\nh(0) = a\\nh(1) = infinity\\nh(x) = 1/(1-x) + a - 1\\nh'(x) = (1-x)**(-2)\\n\\nStep 1: Generate many x from Uniform(0,1)\\n\\nStep 2: Calculate g(x) for each x. Now g(x)=1/(1-x) + a + 1\\n\\nStep 3: Calculate the sample mean of all the g(x)g(x) generated in Step 2\\n\\n\\n\""
      ]
     },
     "execution_count": 12,
     "metadata": {},
     "output_type": "execute_result"
    }
   ],
   "source": [
    "'''\n",
    "h(0) = a\n",
    "h(1) = infinity\n",
    "h(x) = 1/(1-x) + a - 1\n",
    "h'(x) = (1-x)**(-2)\n",
    "\n",
    "Step 1: Generate many x from Uniform(0,1)\n",
    "\n",
    "Step 2: Calculate g(x) for each x. Now g(x)=1/(1-x) + a + 1\n",
    "\n",
    "Step 3: Calculate the sample mean of all the g(x)g(x) generated in Step 2\n",
    "\n",
    "\n",
    "'''"
   ]
  },
  {
   "cell_type": "code",
   "execution_count": 16,
   "id": "22f5dae9",
   "metadata": {},
   "outputs": [
    {
     "data": {
      "text/plain": [
       "0.9699380426975901"
      ]
     },
     "execution_count": 16,
     "metadata": {},
     "output_type": "execute_result"
    }
   ],
   "source": [
    "a = -2\n",
    "x = np.random.rand(1000)\n",
    "hx = 1/(1-x) + a - 1\n",
    "fy = 1/np.sqrt(2*np.pi)*np.exp(-hx**2/2)\n",
    "gx = fy * 1/(1-x)**2\n",
    "gx.mean()"
   ]
  },
  {
   "cell_type": "markdown",
   "id": "7a06a02f",
   "metadata": {},
   "source": [
    "# CI for Monte Carlos"
   ]
  },
  {
   "cell_type": "code",
   "execution_count": 17,
   "id": "454c2e97",
   "metadata": {},
   "outputs": [
    {
     "data": {
      "text/plain": [
       "'\\nStep 1: after you done with monte carlos simulation, calculate S=np.std(gx,ddof=1)\\n\\nStep 2: according to alpha (1-confidence level), z = spst.norm.ppf(1-alpha/2), t = spst.t.ppf(1-alpha/2,N - 1)\\n\\nStep 3：\\nupperbound = result + S*t/N**0.5\\nlowerbound = result - S*t/N**0.5\\n\\nStep 4(Optional): Draw the sample distribution using \\nplt.hist(gx,density = True,bins = 30)\\n\\n'"
      ]
     },
     "execution_count": 17,
     "metadata": {},
     "output_type": "execute_result"
    }
   ],
   "source": [
    "'''\n",
    "Step 1: after you done with monte carlos simulation, calculate S=np.std(gx,ddof=1)\n",
    "\n",
    "Step 2: according to alpha (1-confidence level), z = spst.norm.ppf(1-alpha/2), t = spst.t.ppf(1-alpha/2,N - 1)\n",
    "\n",
    "Step 3：\n",
    "upperbound = result + S*t/N**0.5\n",
    "lowerbound = result - S*t/N**0.5\n",
    "\n",
    "Step 4(Optional): Draw the sample distribution using \n",
    "plt.hist(gx,density = True,bins = 30)\n",
    "\n",
    "'''\n"
   ]
  },
  {
   "cell_type": "code",
   "execution_count": 21,
   "id": "c11ccc74",
   "metadata": {},
   "outputs": [
    {
     "name": "stdout",
     "output_type": "stream",
     "text": [
      "41.793183264083886 42.50899907990706\n"
     ]
    },
    {
     "data": {
      "image/png": "[encoded data removed]",
      "text/plain": [
       "<Figure size 432x288 with 1 Axes>"
      ]
     },
     "metadata": {
      "needs_background": "light"
     },
     "output_type": "display_data"
    }
   ],
   "source": [
    "# x^2 + 1 integral from 2 to 5\n",
    "import scipy.stats as spst\n",
    "import matplotlib.pyplot as plt\n",
    "N = 10000\n",
    "x = np.random.rand(size)\n",
    "hx = 2 + 3*x\n",
    "fy = hx**2 + 1\n",
    "gx = fy * 3\n",
    "result = gx.mean()\n",
    "S = np.std(gx,ddof = 1)\n",
    "alpha = 0.05\n",
    "z = spst.norm.ppf(1-alpha/2)\n",
    "t = spst.t.ppf(1-alpha/2,size - 1)\n",
    "\n",
    "upperbound = result + S*t/N**0.5\n",
    "lowerbound = result - S*t/N**0.5\n",
    "print(lowerbound,upperbound)\n",
    "\n",
    "plt.hist(gx,density = True,bins = 30)\n",
    "plt.show()\n",
    "\n",
    "\n"
   ]
  },
  {
   "cell_type": "markdown",
   "id": "6a6f39c5",
   "metadata": {},
   "source": [
    "# High Dimensional MonteCarlos"
   ]
  },
  {
   "cell_type": "code",
   "execution_count": 56,
   "id": "bfc76fa0",
   "metadata": {},
   "outputs": [
    {
     "name": "stdout",
     "output_type": "stream",
     "text": [
      "0.4931383685994936 0.5073975138815368 0.52165665916358\n"
     ]
    }
   ],
   "source": [
    "#exp(-(x+y))dydx x from 0 to infinity y from 0 to x\n",
    "N = 10000\n",
    "x = np.random.rand(N)\n",
    "y = np.random.rand(N)\n",
    "hx = 1/(1-x) - 1 \n",
    "hy = 1/(1-y) - 1\n",
    "fy = np.exp(-hx - hy)\n",
    "gx = fy * 1/(1-x)**2 * 1/(1 - y)**2\n",
    "gx[hy>hx] = 0\n",
    "result = gx.mean()\n",
    "alpha = 0.05\n",
    "S = np.std(gx,ddof = 1)\n",
    "z = spst.norm.ppf(1-alpha/2)\n",
    "lowerbound = result - S * z / N ** 0.5\n",
    "upperbound = result + S * z/ N ** 0.5\n",
    "print(lowerbound,result,upperbound)"
   ]
  },
  {
   "cell_type": "code",
   "execution_count": 57,
   "id": "7ae9122b",
   "metadata": {},
   "outputs": [
    {
     "name": "stdout",
     "output_type": "stream",
     "text": [
      "0.2899037089718339 0.27106777091674933 0.3087396470269184\n"
     ]
    }
   ],
   "source": [
    "N = 10000\n",
    "alpha = 0.05\n",
    "x = np.random.rand(N)\n",
    "y = np.random.rand(N)\n",
    "hx = 2 * x\n",
    "hy = 6 * y\n",
    "fy = np.exp(-hx-hy)\n",
    "gx = fy * 2 * 6\n",
    "gx[(hy <= 2*hx) | (hy >= 2*hx + 2)] = 0\n",
    "result = gx.mean()\n",
    "S = np.std(gx,ddof = 1)\n",
    "z = spst.norm.ppf(1-alpha/2)\n",
    "lowerbound = result - S * z / N ** 0.5\n",
    "upperbound = result + S * z / N ** 0.5\n",
    "print(result,lowerbound,upperbound)\n",
    "#Very important, hx and hy inherits all the necessary work"
   ]
  }
 ],
 "metadata": {
  "kernelspec": {
   "display_name": "Python 3 (ipykernel)",
   "language": "python",
   "name": "python3"
  },
  "language_info": {
   "codemirror_mode": {
    "name": "ipython",
    "version": 3
   },
   "file_extension": ".py",
   "mimetype": "text/x-python",
   "name": "python",
   "nbconvert_exporter": "python",
   "pygments_lexer": "ipython3",
   "version": "3.9.7"
  }
 },
 "nbformat": 4,
 "nbformat_minor": 5
}

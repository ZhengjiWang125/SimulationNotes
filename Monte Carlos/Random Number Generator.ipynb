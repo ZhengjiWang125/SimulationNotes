{
 "cells": [
  {
   "cell_type": "code",
   "execution_count": 2,
   "id": "73dc4c09",
   "metadata": {},
   "outputs": [],
   "source": [
    "import numpy as np\n",
    "import pandas as pd\n",
    "import matplotlib as plt\n",
    "import scipy.stats as spst\n",
    "import scipy.special as spsp"
   ]
  },
  {
   "cell_type": "markdown",
   "id": "a7d15a16",
   "metadata": {},
   "source": [
    "Random Number Generator"
   ]
  },
  {
   "cell_type": "code",
   "execution_count": 2,
   "id": "88e794a4",
   "metadata": {},
   "outputs": [
    {
     "data": {
      "text/plain": [
       "0.3039026919569515"
      ]
     },
     "execution_count": 2,
     "metadata": {},
     "output_type": "execute_result"
    }
   ],
   "source": [
    "np.random.rand()"
   ]
  },
  {
   "cell_type": "code",
   "execution_count": 3,
   "id": "191aef65",
   "metadata": {},
   "outputs": [
    {
     "data": {
      "text/plain": [
       "array([0.4267214 , 0.364499  , 0.86582833, 0.1577314 , 0.6169908 ,\n",
       "       0.96574581, 0.71819059, 0.18530412, 0.24987377, 0.01599758])"
      ]
     },
     "execution_count": 3,
     "metadata": {},
     "output_type": "execute_result"
    }
   ],
   "source": [
    "np.random.rand(10)"
   ]
  },
  {
   "cell_type": "code",
   "execution_count": 6,
   "id": "d1bbc3ff",
   "metadata": {},
   "outputs": [
    {
     "data": {
      "text/plain": [
       "array([[0.8840466 , 0.17748686],\n",
       "       [0.49716563, 0.23821024]])"
      ]
     },
     "execution_count": 6,
     "metadata": {},
     "output_type": "execute_result"
    }
   ],
   "source": [
    "np.random.rand(2,2)"
   ]
  },
  {
   "cell_type": "code",
   "execution_count": 10,
   "id": "7f106249",
   "metadata": {},
   "outputs": [],
   "source": [
    "R1 = np.random.RandomState(seed = 1)\n",
    "R2 = np.random.RandomState(seed = 1)"
   ]
  },
  {
   "cell_type": "code",
   "execution_count": 11,
   "id": "1c064634",
   "metadata": {},
   "outputs": [
    {
     "data": {
      "text/plain": [
       "0.417022004702574"
      ]
     },
     "execution_count": 11,
     "metadata": {},
     "output_type": "execute_result"
    }
   ],
   "source": [
    "R1.rand()"
   ]
  },
  {
   "cell_type": "code",
   "execution_count": 12,
   "id": "5bd72c20",
   "metadata": {},
   "outputs": [
    {
     "data": {
      "text/plain": [
       "0.417022004702574"
      ]
     },
     "execution_count": 12,
     "metadata": {},
     "output_type": "execute_result"
    }
   ],
   "source": [
    "R2.rand()"
   ]
  },
  {
   "cell_type": "code",
   "execution_count": 18,
   "id": "56500af9",
   "metadata": {},
   "outputs": [],
   "source": [
    "# Random State gives us a way to control two random number series"
   ]
  },
  {
   "cell_type": "code",
   "execution_count": 24,
   "id": "3345c800",
   "metadata": {},
   "outputs": [],
   "source": [
    "np.random.seed(10)"
   ]
  },
  {
   "cell_type": "code",
   "execution_count": 25,
   "id": "39101b32",
   "metadata": {},
   "outputs": [],
   "source": [
    "r1 = spst.uniform.rvs(size = 20)"
   ]
  },
  {
   "cell_type": "code",
   "execution_count": 26,
   "id": "cc6730f8",
   "metadata": {},
   "outputs": [
    {
     "data": {
      "text/plain": [
       "array([0.77132064, 0.02075195, 0.63364823, 0.74880388, 0.49850701,\n",
       "       0.22479665, 0.19806286, 0.76053071, 0.16911084, 0.08833981,\n",
       "       0.68535982, 0.95339335, 0.00394827, 0.51219226, 0.81262096,\n",
       "       0.61252607, 0.72175532, 0.29187607, 0.91777412, 0.71457578])"
      ]
     },
     "execution_count": 26,
     "metadata": {},
     "output_type": "execute_result"
    }
   ],
   "source": [
    "r1"
   ]
  },
  {
   "cell_type": "code",
   "execution_count": 27,
   "id": "8b90768a",
   "metadata": {},
   "outputs": [],
   "source": [
    "r2 = spst.uniform.rvs(size = 20)"
   ]
  },
  {
   "cell_type": "code",
   "execution_count": 28,
   "id": "956297e5",
   "metadata": {},
   "outputs": [
    {
     "data": {
      "text/plain": [
       "array([0.54254437, 0.14217005, 0.37334076, 0.67413362, 0.44183317,\n",
       "       0.43401399, 0.61776698, 0.51313824, 0.65039718, 0.60103895,\n",
       "       0.8052232 , 0.52164715, 0.90864888, 0.31923609, 0.09045935,\n",
       "       0.30070006, 0.11398436, 0.82868133, 0.04689632, 0.62628715])"
      ]
     },
     "execution_count": 28,
     "metadata": {},
     "output_type": "execute_result"
    }
   ],
   "source": [
    "r2"
   ]
  },
  {
   "cell_type": "code",
   "execution_count": 29,
   "id": "d9501208",
   "metadata": {},
   "outputs": [],
   "source": [
    "#uniform wouldn't look at what seed says"
   ]
  },
  {
   "cell_type": "code",
   "execution_count": 30,
   "id": "fdb31446",
   "metadata": {},
   "outputs": [],
   "source": [
    "#On contaray, numpy would create fixed stream of random numbers"
   ]
  },
  {
   "cell_type": "code",
   "execution_count": 31,
   "id": "79c11304",
   "metadata": {},
   "outputs": [],
   "source": [
    "R1 = np.random.RandomState(seed = 10)\n",
    "R2 = np.random.RandomState(seed = 10)\n"
   ]
  },
  {
   "cell_type": "code",
   "execution_count": 32,
   "id": "a19575f2",
   "metadata": {},
   "outputs": [
    {
     "data": {
      "text/plain": [
       "array([0.77132064, 0.02075195, 0.63364823, 0.74880388, 0.49850701,\n",
       "       0.22479665, 0.19806286, 0.76053071, 0.16911084, 0.08833981])"
      ]
     },
     "execution_count": 32,
     "metadata": {},
     "output_type": "execute_result"
    }
   ],
   "source": [
    "R1.rand(10)"
   ]
  },
  {
   "cell_type": "code",
   "execution_count": 33,
   "id": "de8fb426",
   "metadata": {},
   "outputs": [
    {
     "data": {
      "text/plain": [
       "array([0.77132064, 0.02075195, 0.63364823, 0.74880388, 0.49850701,\n",
       "       0.22479665, 0.19806286, 0.76053071, 0.16911084, 0.08833981])"
      ]
     },
     "execution_count": 33,
     "metadata": {},
     "output_type": "execute_result"
    }
   ],
   "source": [
    "R2.rand(10)"
   ]
  },
  {
   "cell_type": "code",
   "execution_count": 34,
   "id": "f8e12228",
   "metadata": {},
   "outputs": [
    {
     "data": {
      "text/plain": [
       "array([0.54758616, 0.819287  , 0.19894754, 0.8568503 , 0.35165264,\n",
       "       0.75464769, 0.29596171, 0.88393648, 0.32551164, 0.1650159 ])"
      ]
     },
     "execution_count": 34,
     "metadata": {},
     "output_type": "execute_result"
    }
   ],
   "source": [
    "np.random.rand(10)\n",
    "#There are the next 10 streams"
   ]
  },
  {
   "cell_type": "code",
   "execution_count": 35,
   "id": "736c6e54",
   "metadata": {},
   "outputs": [
    {
     "data": {
      "text/plain": [
       "array([0.68535982, 0.95339335, 0.00394827, 0.51219226, 0.81262096,\n",
       "       0.61252607, 0.72175532, 0.29187607, 0.91777412, 0.71457578])"
      ]
     },
     "execution_count": 35,
     "metadata": {},
     "output_type": "execute_result"
    }
   ],
   "source": [
    "R1.rand(10)\n",
    "#And these are the next ten streams"
   ]
  },
  {
   "cell_type": "code",
   "execution_count": 17,
   "id": "bd9d8c84",
   "metadata": {},
   "outputs": [],
   "source": [
    "np.random.seed(10)"
   ]
  },
  {
   "cell_type": "code",
   "execution_count": 18,
   "id": "2b83c14f",
   "metadata": {},
   "outputs": [],
   "source": [
    "X = np.random.rand(10)"
   ]
  },
  {
   "cell_type": "code",
   "execution_count": 19,
   "id": "d4609bc8",
   "metadata": {},
   "outputs": [
    {
     "data": {
      "text/plain": [
       "array([0.77132064, 0.02075195, 0.63364823, 0.74880388, 0.49850701,\n",
       "       0.22479665, 0.19806286, 0.76053071, 0.16911084, 0.08833981])"
      ]
     },
     "execution_count": 19,
     "metadata": {},
     "output_type": "execute_result"
    }
   ],
   "source": [
    "X"
   ]
  },
  {
   "cell_type": "code",
   "execution_count": null,
   "id": "5ec26547",
   "metadata": {},
   "outputs": [],
   "source": []
  }
 ],
 "metadata": {
  "kernelspec": {
   "display_name": "Python 3 (ipykernel)",
   "language": "python",
   "name": "python3"
  },
  "language_info": {
   "codemirror_mode": {
    "name": "ipython",
    "version": 3
   },
   "file_extension": ".py",
   "mimetype": "text/x-python",
   "name": "python",
   "nbconvert_exporter": "python",
   "pygments_lexer": "ipython3",
   "version": "3.9.7"
  }
 },
 "nbformat": 4,
 "nbformat_minor": 5
}

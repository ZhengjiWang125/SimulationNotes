{
 "cells": [
  {
   "cell_type": "code",
   "execution_count": 3,
   "id": "43f89c8a",
   "metadata": {},
   "outputs": [],
   "source": [
    "import numpy as np\n",
    "import simpy \n",
    "from scipy.stats import expon"
   ]
  },
  {
   "cell_type": "code",
   "execution_count": 11,
   "id": "fec9595d",
   "metadata": {},
   "outputs": [
    {
     "data": {
      "text/plain": [
       "([0.23463404498842955,\n",
       "  1.7396947604471902,\n",
       "  2.196166037335167,\n",
       "  2.280964183292469],\n",
       " [1.5513797385338788, 1.9093196309095364, 2.2560048059438476])"
      ]
     },
     "execution_count": 11,
     "metadata": {},
     "output_type": "execute_result"
    }
   ],
   "source": [
    "np.random.seed(42)\n",
    "\n",
    "def arrival(env,servers, lambdas ,S,G):\n",
    "    while True:\n",
    "        dt = expon.rvs(scale = 0.5)\n",
    "        arrival = env.timeout(dt)\n",
    "        yield arrival\n",
    "        S.append(env.now)\n",
    "        env.process(service(env,servers,lambdas,S,G))\n",
    "    \n",
    "def service(env, servers,lambdas, S,G):\n",
    "    lens = np.array([len(server.queue) + server.count for server in servers])\n",
    "    ind = np.argmin(lens)\n",
    "    rqt = servers[ind].request()\n",
    "    yield rqt\n",
    "    dt = expon.rvs(scale = 1/lambdas[ind])\n",
    "    yield env.timeout(dt)\n",
    "    servers[ind].release(rqt)\n",
    "    \n",
    "    G.append(env.now)\n",
    "    \n",
    "    \n",
    "def simulate(n):\n",
    "    S = []\n",
    "    G = []\n",
    "    env = simpy.Environment()\n",
    "    servers = [simpy.Resource(env,capacity = 1) for i in range(0,n)]\n",
    "    lambdas = [1,4,3]\n",
    "    env.process(arrival(env,servers,lambdas,S,G))\n",
    "    env.run(until=3)\n",
    "    return S,G\n",
    "\n",
    "\n",
    "simulate(3)"
   ]
  }
 ],
 "metadata": {
  "kernelspec": {
   "display_name": "Python 3 (ipykernel)",
   "language": "python",
   "name": "python3"
  },
  "language_info": {
   "codemirror_mode": {
    "name": "ipython",
    "version": 3
   },
   "file_extension": ".py",
   "mimetype": "text/x-python",
   "name": "python",
   "nbconvert_exporter": "python",
   "pygments_lexer": "ipython3",
   "version": "3.9.7"
  }
 },
 "nbformat": 4,
 "nbformat_minor": 5
}

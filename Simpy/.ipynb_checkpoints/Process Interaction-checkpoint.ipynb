{
 "cells": [
  {
   "cell_type": "code",
   "execution_count": 1,
   "id": "3b5890b0",
   "metadata": {},
   "outputs": [],
   "source": [
    "import numpy as np\n",
    "import simpy\n",
    "\n",
    "from scipy.stats import expon, uniform\n",
    "#outcome of one process preempt the other process"
   ]
  },
  {
   "cell_type": "code",
   "execution_count": 5,
   "id": "17027364",
   "metadata": {},
   "outputs": [
    {
     "name": "stdout",
     "output_type": "stream",
     "text": [
      "customer 0 arrives at  0.6437047732770423\n",
      "customer 0 gets the server at 0.6437047732770423\n",
      "customer 0 finished service at 0.8124320652301944\n",
      "customer 1 arrives at  1.4416764131767261\n",
      "customer 1 gets the server at 1.4416764131767261\n",
      "customer 2 arrives at  1.5233192017897137\n",
      "customer 3 arrives at  1.831953319954936\n",
      "customer 2 runs out of patience at 1.9564865950363202 and leaves\n",
      "customer 1 finished service at 2.091361258758401\n",
      "customer 3 gets the server at 2.091361258758401\n",
      "customer 3 finished service at 2.38320509570377\n",
      "customer 4 arrives at  3.413711737414196\n",
      "customer 4 gets the server at 3.413711737414196\n",
      "customer 4 finished service at 3.925421209513698\n",
      "customer 5 arrives at  4.948543064458621\n",
      "customer 5 gets the server at 4.948543064458621\n",
      "customer 6 arrives at  5.09846066686124\n",
      "customer 6 runs out of patience at 5.221252843046708 and leaves\n",
      "customer 5 finished service at 5.877097552014076\n",
      "customer 7 arrives at  6.544787049511294\n",
      "customer 7 gets the server at 6.544787049511294\n",
      "customer 7 finished service at 6.618104795576056\n",
      "customer 8 arrives at  7.539338166062209\n",
      "customer 8 gets the server at 7.539338166062209\n",
      "customer 8 finished service at 8.508012220313883\n",
      "customer 9 arrives at  9.196030231450802\n",
      "customer 9 gets the server at 9.196030231450802\n"
     ]
    }
   ],
   "source": [
    "def arrival():\n",
    "    i = 0\n",
    "    while True:\n",
    "        dt = expon.rvs()\n",
    "        yield env.timeout(dt)\n",
    "        print('customer {} arrives at  {}'.format(i,env.now))\n",
    "        rqt = server.request()\n",
    "        s1 = env.process(service(i, rqt))\n",
    "        env.process(patience(i,s1, rqt))\n",
    "        i = i + 1\n",
    "\n",
    "def service(i,rqt):\n",
    "    try:\n",
    "        yield rqt\n",
    "        print('customer {} gets the server at {}'.format(i,env.now))\n",
    "        dt = expon.rvs()\n",
    "        yield env.timeout(dt)\n",
    "        print('customer {} finished service at {}'.format(i,env.now))\n",
    "        server.release(rqt)\n",
    "    except simpy.Interrupt:\n",
    "        rqt.cancel()\n",
    "        print('customer {} runs out of patience at {} and leaves'.format(i, env.now))\n",
    "\n",
    "def patience(i,s1,rqt):\n",
    "    dt = expon.rvs()\n",
    "    yield env.timeout(dt)\n",
    "    if rqt.processed == False:\n",
    "        s1.interrupt()\n",
    "    \n",
    "        \n",
    "    \n",
    "\n",
    "\n",
    "\n",
    "\n",
    "\n",
    "\n",
    "\n",
    "\n",
    "env = simpy.Environment()\n",
    "server = simpy.Resource(env,capacity = 1)\n",
    "env.process(arrival())\n",
    "env.run(until = 10)"
   ]
  },
  {
   "cell_type": "code",
   "execution_count": null,
   "id": "1bed9412",
   "metadata": {},
   "outputs": [],
   "source": []
  }
 ],
 "metadata": {
  "kernelspec": {
   "display_name": "Python 3 (ipykernel)",
   "language": "python",
   "name": "python3"
  },
  "language_info": {
   "codemirror_mode": {
    "name": "ipython",
    "version": 3
   },
   "file_extension": ".py",
   "mimetype": "text/x-python",
   "name": "python",
   "nbconvert_exporter": "python",
   "pygments_lexer": "ipython3",
   "version": "3.9.7"
  }
 },
 "nbformat": 4,
 "nbformat_minor": 5
}

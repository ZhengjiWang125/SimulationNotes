{
 "cells": [
  {
   "cell_type": "code",
   "execution_count": 1,
   "id": "b171c1e3",
   "metadata": {},
   "outputs": [],
   "source": [
    "import numpy as np\n",
    "import simpy\n",
    "from scipy.stats import expon"
   ]
  },
  {
   "cell_type": "code",
   "execution_count": 11,
   "id": "3f5bbcdb",
   "metadata": {},
   "outputs": [
    {
     "data": {
      "text/plain": [
       "([0.4692680899768591,\n",
       "  3.4793895208943804,\n",
       "  3.6489858128089856,\n",
       "  4.56806796643625,\n",
       "  4.588867274435389,\n",
       "  8.0924247495937,\n",
       "  8.242659278321039,\n",
       "  8.698936496541886,\n",
       "  8.921672358670577,\n",
       "  9.643701513703704,\n",
       "  9.691265363460111],\n",
       " [2.868581207760608,\n",
       "  5.789146779231948,\n",
       "  5.991758202064205,\n",
       "  7.594956214109065,\n",
       "  8.701187115182845,\n",
       "  9.944379670765636])"
      ]
     },
     "execution_count": 11,
     "metadata": {},
     "output_type": "execute_result"
    }
   ],
   "source": [
    "np.random.seed(42)\n",
    "\n",
    "def arrival(env,servers,S,G):\n",
    "    i = 0\n",
    "    while True:\n",
    "        dt = expon.rvs(scale = 1)\n",
    "        arrival = env.timeout(dt)\n",
    "        yield arrival\n",
    "        S. append(env.now)\n",
    "        env.process(service(env,servers,S,G,i))\n",
    "        i = i + 1\n",
    "        \n",
    "def service(env,servers,S,G,i):\n",
    "    n = len(servers)\n",
    "    for i in range(0,n):\n",
    "        rqt = servers[i].request()\n",
    "        yield rqt\n",
    "        dt = expon.rvs(scale = 1)\n",
    "        yield env.timeout(dt)\n",
    "        servers[i].release(rqt)\n",
    "    G.append(env.now)\n",
    "    \n",
    "    \n",
    "    \n",
    "    \n",
    "def simulate(n):\n",
    "    S = []\n",
    "    G = []\n",
    "    env = simpy.Environment()\n",
    "    servers = [simpy.Resource(env, capacity = 1) for i in range(0,n)]\n",
    "    env.process(arrival(env,servers,S,G))\n",
    "    env.run(until = 10)\n",
    "    return S,G\n",
    "\n",
    "\n",
    "simulate(3)    "
   ]
  }
 ],
 "metadata": {
  "kernelspec": {
   "display_name": "Python 3 (ipykernel)",
   "language": "python",
   "name": "python3"
  },
  "language_info": {
   "codemirror_mode": {
    "name": "ipython",
    "version": 3
   },
   "file_extension": ".py",
   "mimetype": "text/x-python",
   "name": "python",
   "nbconvert_exporter": "python",
   "pygments_lexer": "ipython3",
   "version": "3.9.7"
  }
 },
 "nbformat": 4,
 "nbformat_minor": 5
}

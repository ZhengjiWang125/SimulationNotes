{
 "cells": [
  {
   "cell_type": "code",
   "execution_count": 4,
   "id": "830aba70",
   "metadata": {},
   "outputs": [],
   "source": [
    "import numpy as np\n",
    "import simpy\n",
    "from scipy.stats import expon"
   ]
  },
  {
   "cell_type": "code",
   "execution_count": 7,
   "id": "14483673",
   "metadata": {},
   "outputs": [
    {
     "name": "stdout",
     "output_type": "stream",
     "text": [
      "customer 0 arrives at  0.303844889921089\n",
      "there are  0 people ahead of him\n",
      "customer 1 arrives at  0.4766328032435688\n",
      "there are  1 people ahead of him\n",
      "customer 2 arrives at  0.8025381934450144\n",
      "there are  2 people ahead of him\n",
      "customer 0 leavers at 0.803844889921089\n",
      "customer 1 leavers at 1.303844889921089\n",
      "customer 3 arrives at  1.4174601086603946\n",
      "there are  1 people ahead of him\n",
      "customer 2 leavers at 1.803844889921089\n",
      "customer 4 arrives at  1.8045950561374178\n",
      "there are  1 people ahead of him\n",
      "customer 3 leavers at 2.303844889921089\n",
      "customer 5 arrives at  2.535221533838917\n",
      "there are  1 people ahead of him\n",
      "customer 4 leavers at 2.803844889921089\n",
      "customer 6 arrives at  2.8389556545783092\n",
      "there are  1 people ahead of him\n",
      "customer 5 leavers at 3.303844889921089\n",
      "customer 6 leavers at 3.803844889921089\n",
      "customer 7 arrives at  6.572216968580825\n",
      "there are  0 people ahead of him\n",
      "customer 7 leavers at 7.072216968580825\n",
      "customer 8 arrives at  7.892029271045656\n",
      "there are  0 people ahead of him\n",
      "customer 9 arrives at  8.014506813695522\n",
      "there are  1 people ahead of him\n",
      "customer 8 leavers at 8.392029271045656\n",
      "customer 10 arrives at  8.502715259428543\n",
      "there are  1 people ahead of him\n",
      "customer 9 leavers at 8.892029271045656\n",
      "customer 10 leavers at 9.392029271045656\n",
      "customer 11 arrives at  9.492924849331155\n",
      "there are  0 people ahead of him\n",
      "customer 12 arrives at  9.626522445673494\n",
      "there are  1 people ahead of him\n",
      "customer 11 leavers at 9.992924849331155\n"
     ]
    }
   ],
   "source": [
    "np.random.seed(1337)\n",
    "\n",
    "def arrivals():\n",
    "    i = 0\n",
    "    while True:\n",
    "        dt = expon.rvs()\n",
    "        yield env.timeout(dt)\n",
    "        yield env.process(service1(i))#no one arrives until this customer is processed.\n",
    "        env.process(service2(i))\n",
    "        i = i + 1\n",
    "\n",
    "    \n",
    "    \n",
    "    \n",
    "def service1(i):\n",
    "    print('customer {} arrives at  {}'.format(i,env.now))\n",
    "    print('there are  {} people ahead of him for server 1'.format(len(server.queue) + server.count))\n",
    "    rqt = server1.request()\n",
    "    yield rqt\n",
    "    dt = 0.5\n",
    "    yield env.timeout(dt)\n",
    "    server1.release(rqt)\n",
    "    print('customer {} done with server 1 at {}'.format(i,env.now))\n",
    "    \n",
    "\n",
    "    \n",
    "    \n",
    "env = simpy.Environment()\n",
    "server1 = simpy.Resource(env, capacity = 1)\n",
    "server2 = simpy.Resource(env, capacity = 1)\n",
    "env.process(arrivals())\n",
    "env.process(arrivals2())\n",
    "env.run(until = 10)"
   ]
  },
  {
   "cell_type": "code",
   "execution_count": null,
   "id": "257d98d5",
   "metadata": {},
   "outputs": [],
   "source": []
  }
 ],
 "metadata": {
  "kernelspec": {
   "display_name": "Python 3 (ipykernel)",
   "language": "python",
   "name": "python3"
  },
  "language_info": {
   "codemirror_mode": {
    "name": "ipython",
    "version": 3
   },
   "file_extension": ".py",
   "mimetype": "text/x-python",
   "name": "python",
   "nbconvert_exporter": "python",
   "pygments_lexer": "ipython3",
   "version": "3.9.7"
  }
 },
 "nbformat": 4,
 "nbformat_minor": 5
}

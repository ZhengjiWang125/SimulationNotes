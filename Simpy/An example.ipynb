{
 "cells": [
  {
   "cell_type": "code",
   "execution_count": 1,
   "id": "ecb0875e",
   "metadata": {},
   "outputs": [],
   "source": [
    "import numpy as np\n",
    "import simpy\n",
    "\n",
    "from scipy.stats import expon"
   ]
  },
  {
   "cell_type": "code",
   "execution_count": null,
   "id": "b58a95ec",
   "metadata": {},
   "outputs": [],
   "source": [
    "def arrivals():\n",
    "    i = 0\n",
    "    rqt_list = {}\n",
    "    while True:\n",
    "        dt = expon.rvs()\n",
    "        yield env.timeout(dt)\n",
    "        s1 = env.process(service(i,rqt_list))\n",
    "        env.process(bored(s1,i,rqt_list))\n",
    "        i = i + 1\n",
    "def service(i,rqt_list):\n",
    "    try:\n",
    "        rqt = server.request()\n",
    "        rqt_list[i] = rqt\n",
    "        yield rqt\n",
    "        dt = expon.rvs()\n",
    "        yield env.timeout(dt)\n",
    "        server.release(rqt)\n",
    "    except simpy.Interrupt as sint:\n",
    "        if sint.cause == 'case 1':\n",
    "            rqt.cancel()\n",
    "        elif sint.cause == 'case2':\n",
    "            server.release(rqt)\n",
    "        \n",
    "            \n",
    "    \n",
    "def bored(s1,i,rqt_list):\n",
    "    while True:\n",
    "        dt = expon.rvs()\n",
    "        yield env.timeout(dt)\n",
    "        if rqt_list[i].processed != True:\n",
    "            s1.interrupt('case 1')\n",
    "        elif rqt_list[i] in server.users:\n",
    "            s1.interrupt('case 2')\n",
    "        else:\n",
    "            break\n",
    "        \n",
    "        \n",
    "        \n",
    "        "
   ]
  }
 ],
 "metadata": {
  "kernelspec": {
   "display_name": "Python 3 (ipykernel)",
   "language": "python",
   "name": "python3"
  },
  "language_info": {
   "codemirror_mode": {
    "name": "ipython",
    "version": 3
   },
   "file_extension": ".py",
   "mimetype": "text/x-python",
   "name": "python",
   "nbconvert_exporter": "python",
   "pygments_lexer": "ipython3",
   "version": "3.9.7"
  }
 },
 "nbformat": 4,
 "nbformat_minor": 5
}

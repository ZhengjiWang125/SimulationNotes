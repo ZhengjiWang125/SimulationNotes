{
 "cells": [
  {
   "cell_type": "code",
   "execution_count": 1,
   "id": "a95fc1c2",
   "metadata": {},
   "outputs": [],
   "source": [
    "import numpy as np\n",
    "import simpy \n",
    "from scipy.stats import expon"
   ]
  },
  {
   "cell_type": "code",
   "execution_count": 2,
   "id": "ddb1829b",
   "metadata": {},
   "outputs": [
    {
     "name": "stdout",
     "output_type": "stream",
     "text": [
      "customer goes to server 1\n",
      "customer goes to server 1\n",
      "customer goes to server 1\n",
      "customer goes to server 1\n"
     ]
    },
    {
     "data": {
      "text/plain": [
       "([0.23463404498842955,\n",
       "  1.7396947604471902,\n",
       "  2.196166037335167,\n",
       "  2.280964183292469],\n",
       " [0.8930068917611542,\n",
       "  1.8245071956783634,\n",
       "  2.226085421639507,\n",
       "  2.7405052601061013])"
      ]
     },
     "execution_count": 2,
     "metadata": {},
     "output_type": "execute_result"
    }
   ],
   "source": [
    "np.random.seed(42)\n",
    "\n",
    "def arrival(env,server1,server2,S,G):\n",
    "    while True:\n",
    "        dt = expon.rvs(scale = 0.5)\n",
    "        arrival = env.timeout(dt)\n",
    "        yield arrival\n",
    "        S.append(env.now)\n",
    "        env.process(service(env,server1,server2,S,G))\n",
    "    \n",
    "def service(env, server1,server2, S,G):\n",
    "    rqt1 = server1.request()\n",
    "    rqt2 = server2.request()\n",
    "    result = yield rqt1 | rqt2\n",
    "    if rqt1 in result:\n",
    "        print(\"customer goes to server 1\")\n",
    "        rqt2.cancel()\n",
    "        dt = expon.rvs(scale = 1/2)\n",
    "        yield env.timeout(dt)\n",
    "        server1.release(rqt1)\n",
    "    else:\n",
    "        print(\"customer goes to server 2\")\n",
    "        rqt1.cancel()\n",
    "        dt= expon.rvs(scale = 1)\n",
    "        yield env.timeout(dt)\n",
    "        server1.release(rqt2)\n",
    "    G.append(env.now)\n",
    "    \n",
    "    \n",
    "def simulate():\n",
    "    S = []\n",
    "    G = []\n",
    "    env = simpy.Environment()\n",
    "    server1 = simpy.Resource(env,capacity=1)\n",
    "    server2 = simpy.Resource(env,capacity = 1)\n",
    "    env.process(arrival(env,server1,server2,S,G))\n",
    "    env.run(until=3)\n",
    "    return S,G\n",
    "\n",
    "\n",
    "simulate()"
   ]
  },
  {
   "cell_type": "code",
   "execution_count": null,
   "id": "5a54e2b1",
   "metadata": {},
   "outputs": [],
   "source": []
  }
 ],
 "metadata": {
  "kernelspec": {
   "display_name": "Python 3 (ipykernel)",
   "language": "python",
   "name": "python3"
  },
  "language_info": {
   "codemirror_mode": {
    "name": "ipython",
    "version": 3
   },
   "file_extension": ".py",
   "mimetype": "text/x-python",
   "name": "python",
   "nbconvert_exporter": "python",
   "pygments_lexer": "ipython3",
   "version": "3.9.7"
  }
 },
 "nbformat": 4,
 "nbformat_minor": 5
}

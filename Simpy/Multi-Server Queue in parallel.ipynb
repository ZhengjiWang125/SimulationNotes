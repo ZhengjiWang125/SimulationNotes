{
 "cells": [
  {
   "cell_type": "code",
   "execution_count": 3,
   "id": "db06e858",
   "metadata": {},
   "outputs": [],
   "source": [
    "import numpy as np\n",
    "import simpy\n",
    "from scipy.stats import expon"
   ]
  },
  {
   "cell_type": "code",
   "execution_count": 7,
   "id": "2dbb7bb5",
   "metadata": {},
   "outputs": [
    {
     "name": "stdout",
     "output_type": "stream",
     "text": [
      "customer 0 attives at 0.23463404498842955\n",
      "there are currently 1 customers in service\n",
      "there are currently 0 customers in line\n",
      "customer 0 leaves at 1.2346340449884297\n",
      "customer 1 attives at 1.7396947604471902\n",
      "there are currently 1 customers in service\n",
      "there are currently 0 customers in line\n",
      "customer 2 attives at 2.398067607219915\n",
      "there are currently 2 customers in service\n",
      "there are currently 0 customers in line\n",
      "customer 1 leaves at 2.73969476044719\n",
      "customer 3 attives at 2.8545388841078916\n",
      "there are currently 2 customers in service\n",
      "there are currently 0 customers in line\n",
      "customer 4 attives at 2.939351319339065\n",
      "there are currently 2 customers in service\n",
      "there are currently 1 customers in line\n"
     ]
    },
    {
     "data": {
      "text/plain": [
       "([0.23463404498842955,\n",
       "  1.7396947604471902,\n",
       "  2.398067607219915,\n",
       "  2.8545388841078916,\n",
       "  2.939351319339065],\n",
       " [1.2346340449884297, 2.73969476044719])"
      ]
     },
     "execution_count": 7,
     "metadata": {},
     "output_type": "execute_result"
    }
   ],
   "source": [
    "np.random.seed(42)\n",
    "\n",
    "def arrival(env,server,S,G):\n",
    "    i = 0\n",
    "    while True:\n",
    "        dt = expon.rvs(scale = 0.5)\n",
    "        arrival = env.timeout(dt)\n",
    "        yield arrival\n",
    "        S. append(env.now)\n",
    "        env.process(service(env,server,S,G,i))\n",
    "        i = i + 1\n",
    "        \n",
    "def service(env,server,S,G,i):\n",
    "    print('customer {} attives at {}'.format(i,env.now))\n",
    "    rqt = server.request()\n",
    "    print('there are currently {} customers in service'.format(len(server.users)))\n",
    "    print('there are currently {} customers in line'.format(len(server.queue)))\n",
    "    yield rqt\n",
    "    dt = 1.0\n",
    "    yield env.timeout(dt)\n",
    "    print('customer {} leaves at {}'.format(i, env.now))\n",
    "    G.append(env.now)\n",
    "    server.release(rqt)\n",
    "    \n",
    "    \n",
    "    \n",
    "def simulate(j):\n",
    "    S = []\n",
    "    G = []\n",
    "    env = simpy.Environment()\n",
    "    server = simpy.Resource(env,capacity = j)\n",
    "    env.process(arrival(env,server,S,G))\n",
    "    env.run(until = 3)\n",
    "    return S,G\n",
    "\n",
    "\n",
    "\n",
    "\n",
    "\n",
    "\n",
    "\n",
    "\n",
    "\n",
    "    \n",
    "simulate(2)    "
   ]
  },
  {
   "cell_type": "code",
   "execution_count": null,
   "id": "2dcb305c",
   "metadata": {},
   "outputs": [],
   "source": []
  },
  {
   "cell_type": "code",
   "execution_count": null,
   "id": "52c12bcd",
   "metadata": {},
   "outputs": [],
   "source": []
  }
 ],
 "metadata": {
  "kernelspec": {
   "display_name": "Python 3 (ipykernel)",
   "language": "python",
   "name": "python3"
  },
  "language_info": {
   "codemirror_mode": {
    "name": "ipython",
    "version": 3
   },
   "file_extension": ".py",
   "mimetype": "text/x-python",
   "name": "python",
   "nbconvert_exporter": "python",
   "pygments_lexer": "ipython3",
   "version": "3.9.7"
  }
 },
 "nbformat": 4,
 "nbformat_minor": 5
}

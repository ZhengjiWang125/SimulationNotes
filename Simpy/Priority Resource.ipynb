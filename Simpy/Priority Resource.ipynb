{
 "cells": [
  {
   "cell_type": "code",
   "execution_count": 3,
   "id": "06ff3997",
   "metadata": {},
   "outputs": [],
   "source": [
    "import numpy as  np\n",
    "import simpy\n",
    "\n",
    "from scipy.stats import expon, uniform"
   ]
  },
  {
   "cell_type": "code",
   "execution_count": 6,
   "id": "8af69d9d",
   "metadata": {},
   "outputs": [],
   "source": [
    "#priority is in ascending order\n",
    "#you don't cut somebody currently in service\n",
    "def arrival():\n",
    "    i = 0\n",
    "    while True:\n",
    "        dt = expon.rvs()\n",
    "        yield env.timeout(dt)\n",
    "        #half of the users have priority 0\n",
    "        if uniform.rvs() < 0.5:\n",
    "            priority = 0\n",
    "        else:\n",
    "            priority = 1\n",
    "        env.process(service(i,priority))\n",
    "        i = i + 1\n",
    "        \n",
    "def service(i,priority):\n",
    "    rqt = server.request(priority = priority)\n",
    "    yield rqt\n",
    "    dt = expon.rvs()\n",
    "    yield env.timeout(dt)\n",
    "    server.release(rqt)\n",
    "    \n",
    "env = simpy.Environment()\n",
    "server = simpy.PriorityResource(env,capacity = 1)\n",
    "env.process(arrival())\n",
    "env.run(until = 10)"
   ]
  },
  {
   "cell_type": "code",
   "execution_count": null,
   "id": "34bfd1e7",
   "metadata": {},
   "outputs": [],
   "source": []
  }
 ],
 "metadata": {
  "kernelspec": {
   "display_name": "Python 3 (ipykernel)",
   "language": "python",
   "name": "python3"
  },
  "language_info": {
   "codemirror_mode": {
    "name": "ipython",
    "version": 3
   },
   "file_extension": ".py",
   "mimetype": "text/x-python",
   "name": "python",
   "nbconvert_exporter": "python",
   "pygments_lexer": "ipython3",
   "version": "3.9.7"
  }
 },
 "nbformat": 4,
 "nbformat_minor": 5
}

{
 "cells": [
  {
   "cell_type": "code",
   "execution_count": 10,
   "id": "8e8dd5b8",
   "metadata": {},
   "outputs": [
    {
     "name": "stdout",
     "output_type": "stream",
     "text": [
      "0\n",
      "1\n",
      "2\n"
     ]
    }
   ],
   "source": [
    "def generator(n):\n",
    "    for i in range(0,n):\n",
    "        yield i\n",
    "#for a generator, it spits out a value, and it remember where everything is for that function\n",
    "\n",
    "g = generator(3) #an instance of the generator\n",
    "print(next(g))\n",
    "print(next(g)) #it resumes the function execution\n",
    "print(next(g))\n",
    "#print(next(g)) this will returns an error\n",
    "    "
   ]
  },
  {
   "cell_type": "code",
   "execution_count": 13,
   "id": "6955dc53",
   "metadata": {},
   "outputs": [
    {
     "name": "stdout",
     "output_type": "stream",
     "text": [
      "1\n",
      "2\n",
      "3\n"
     ]
    }
   ],
   "source": [
    "def generator():\n",
    "    yield 1\n",
    "    yield 2\n",
    "    yield 3\n",
    "g = generator()\n",
    "print(next(g))\n",
    "print(next(g))\n",
    "print(next(g))\n",
    "#it will keep yielding 1"
   ]
  },
  {
   "cell_type": "code",
   "execution_count": null,
   "id": "b3099093",
   "metadata": {},
   "outputs": [],
   "source": []
  }
 ],
 "metadata": {
  "kernelspec": {
   "display_name": "Python 3 (ipykernel)",
   "language": "python",
   "name": "python3"
  },
  "language_info": {
   "codemirror_mode": {
    "name": "ipython",
    "version": 3
   },
   "file_extension": ".py",
   "mimetype": "text/x-python",
   "name": "python",
   "nbconvert_exporter": "python",
   "pygments_lexer": "ipython3",
   "version": "3.9.7"
  }
 },
 "nbformat": 4,
 "nbformat_minor": 5
}

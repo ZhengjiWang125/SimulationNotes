{
 "cells": [
  {
   "cell_type": "code",
   "execution_count": 1,
   "id": "ca09bb09",
   "metadata": {},
   "outputs": [],
   "source": [
    "import numpy as np\n",
    "import simpy\n",
    "from scipy.stats import expon"
   ]
  },
  {
   "cell_type": "code",
   "execution_count": 7,
   "id": "3bb97d0d",
   "metadata": {},
   "outputs": [],
   "source": [
    "def process(env,stop):\n",
    "    while True:\n",
    "        dt = expon.rvs()\n",
    "        arrival = env.timeout(dt)\n",
    "        yield arrival #get termination time after\n",
    "        if dt > 3:\n",
    "            stop.succeed()\n",
    "            yield stop\n",
    "        #yield arrival\n",
    "        \n",
    "\n",
    "def simulate():\n",
    "    env = simpy.Environment()      \n",
    "    stop = env.event()\n",
    "    env.process(process(env,stop))\n",
    "    env.run(until = stop)\n",
    "    return env.now\n",
    "\n",
    "\n",
    "        \n",
    "X = [simulate() for i in range(0,1000)]"
   ]
  },
  {
   "cell_type": "code",
   "execution_count": 9,
   "id": "b0c76dd6",
   "metadata": {},
   "outputs": [
    {
     "data": {
      "text/plain": [
       "20.088724036866065"
      ]
     },
     "execution_count": 9,
     "metadata": {},
     "output_type": "execute_result"
    }
   ],
   "source": [
    "np.mean(X)"
   ]
  },
  {
   "cell_type": "code",
   "execution_count": null,
   "id": "c843c870",
   "metadata": {},
   "outputs": [],
   "source": []
  }
 ],
 "metadata": {
  "kernelspec": {
   "display_name": "Python 3 (ipykernel)",
   "language": "python",
   "name": "python3"
  },
  "language_info": {
   "codemirror_mode": {
    "name": "ipython",
    "version": 3
   },
   "file_extension": ".py",
   "mimetype": "text/x-python",
   "name": "python",
   "nbconvert_exporter": "python",
   "pygments_lexer": "ipython3",
   "version": "3.9.7"
  }
 },
 "nbformat": 4,
 "nbformat_minor": 5
}

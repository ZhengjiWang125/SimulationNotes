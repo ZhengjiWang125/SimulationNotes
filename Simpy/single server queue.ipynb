{
 "cells": [
  {
   "cell_type": "code",
   "execution_count": 1,
   "id": "7d3111d1",
   "metadata": {},
   "outputs": [],
   "source": [
    "import numpy as np\n",
    "import simpy\n",
    "from scipy.stats import expon"
   ]
  },
  {
   "cell_type": "code",
   "execution_count": 17,
   "id": "250a2de3",
   "metadata": {},
   "outputs": [
    {
     "name": "stdout",
     "output_type": "stream",
     "text": [
      "1.1739730948133411\n"
     ]
    }
   ],
   "source": [
    "def arrivals(env,server,S,G,stop):\n",
    "    while True:\n",
    "        dt = expon.rvs(scale = 1)\n",
    "        arrival = env.timeout(dt)\n",
    "        yield arrival\n",
    "        if env.now < 10:\n",
    "            S.append(env.now)\n",
    "            env.process(service(env,server,S,G,stop))\n",
    "            # stop processing arrival after 10\n",
    "        elif len(server.queue) + len(server.users) == 0:\n",
    "            stop.succeed()\n",
    "            yield stop\n",
    "\n",
    "        \n",
    "        \n",
    "def service(env,server,S,G,stop):\n",
    "    rqt = server.request() #you will be added to a list. When you yield the request\n",
    "    yield rqt #triggered\n",
    "    service_time = 0.8\n",
    "    service = env.timeout(service_time)\n",
    "    yield service\n",
    "    G.append(env.now)\n",
    "    server.release(rqt)\n",
    "        \n",
    "    \n",
    "    \n",
    "            \n",
    "def simulate():\n",
    "    S = []\n",
    "    G = []\n",
    "    env = simpy.Environment()\n",
    "    stop  =env.event()\n",
    "    server = simpy.Resource(env,capacity = 1)\n",
    "    env.process(arrivals(env,server,S,G,stop))\n",
    "    env.run(until = stop)\n",
    "    return max(G[-1] - 10,0)\n",
    "\n",
    "X = [simulate() for i in range(1000)]\n",
    "print(np.mean(X))"
   ]
  },
  {
   "cell_type": "code",
   "execution_count": null,
   "id": "dff86fa8",
   "metadata": {},
   "outputs": [],
   "source": []
  },
  {
   "cell_type": "code",
   "execution_count": null,
   "id": "c306504f",
   "metadata": {},
   "outputs": [],
   "source": []
  },
  {
   "cell_type": "code",
   "execution_count": null,
   "id": "75c65617",
   "metadata": {},
   "outputs": [],
   "source": []
  }
 ],
 "metadata": {
  "kernelspec": {
   "display_name": "Python 3 (ipykernel)",
   "language": "python",
   "name": "python3"
  },
  "language_info": {
   "codemirror_mode": {
    "name": "ipython",
    "version": 3
   },
   "file_extension": ".py",
   "mimetype": "text/x-python",
   "name": "python",
   "nbconvert_exporter": "python",
   "pygments_lexer": "ipython3",
   "version": "3.9.7"
  }
 },
 "nbformat": 4,
 "nbformat_minor": 5
}

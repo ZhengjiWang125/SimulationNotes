{
 "cells": [
  {
   "cell_type": "code",
   "execution_count": 10,
   "id": "3b33bfc0",
   "metadata": {},
   "outputs": [],
   "source": [
    "import numpy as np\n",
    "from scipy.optimize import minimize_scalar\n",
    "from scipy.stats import poisson, uniform\n",
    "\n",
    "\n",
    "def poisson_process(lmbda, T):\n",
    "    N = poisson.rvs(lmbda*T)\n",
    "    S = uniform.rvs(size=N) * T\n",
    "    return N, np.sort(S)"
   ]
  },
  {
   "cell_type": "code",
   "execution_count": 11,
   "id": "46d1b0a4",
   "metadata": {},
   "outputs": [],
   "source": [
    "def lmbda(t):\n",
    "    return -(t-1)**2 + 2"
   ]
  },
  {
   "cell_type": "code",
   "execution_count": 12,
   "id": "87551f74",
   "metadata": {},
   "outputs": [
    {
     "name": "stdout",
     "output_type": "stream",
     "text": [
      "1.0\n",
      "2.0\n"
     ]
    }
   ],
   "source": [
    "def lmbda_m(t):\n",
    "    return -1 * lmbda(t)\n",
    "\n",
    "T = 2\n",
    "\n",
    "sol = minimize_scalar(lmbda_m,bounds = (0,T))\n",
    "print(sol.x)\n",
    "lmbda_max = lmbda(sol.x)\n",
    "print(lmbda_max)"
   ]
  },
  {
   "cell_type": "code",
   "execution_count": null,
   "id": "72fe9cce",
   "metadata": {},
   "outputs": [],
   "source": []
  }
 ],
 "metadata": {
  "kernelspec": {
   "display_name": "Python 3 (ipykernel)",
   "language": "python",
   "name": "python3"
  },
  "language_info": {
   "codemirror_mode": {
    "name": "ipython",
    "version": 3
   },
   "file_extension": ".py",
   "mimetype": "text/x-python",
   "name": "python",
   "nbconvert_exporter": "python",
   "pygments_lexer": "ipython3",
   "version": "3.9.7"
  }
 },
 "nbformat": 4,
 "nbformat_minor": 5
}
